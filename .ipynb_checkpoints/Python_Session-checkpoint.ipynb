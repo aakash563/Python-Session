{
 "cells": [
  {
   "cell_type": "markdown",
   "id": "f545cdb7",
   "metadata": {},
   "source": [
    "# Python is one of popular interpreted programming language in the world\n",
    "* Not compiler"
   ]
  },
  {
   "cell_type": "code",
   "execution_count": null,
   "id": "0cf6d632",
   "metadata": {},
   "outputs": [],
   "source": [
    "print('Hi, Welcome to python session')"
   ]
  },
  {
   "cell_type": "code",
   "execution_count": null,
   "id": "587f0e41",
   "metadata": {},
   "outputs": [],
   "source": [
    "print(\"Hi, Welcome to python session\")"
   ]
  },
  {
   "cell_type": "code",
   "execution_count": null,
   "id": "d6949c94",
   "metadata": {},
   "outputs": [],
   "source": [
    "print('''This is String for multi lines\n",
    "where you can write \n",
    "more than one lines using single comma three times''')"
   ]
  },
  {
   "cell_type": "code",
   "execution_count": null,
   "id": "95012404",
   "metadata": {},
   "outputs": [],
   "source": [
    "print(\"\"\"This is String for multi lines\n",
    "where you can write \n",
    "more than one lines using single comma three times\"\"\")"
   ]
  },
  {
   "cell_type": "code",
   "execution_count": null,
   "id": "824ce4c8",
   "metadata": {},
   "outputs": [],
   "source": [
    "# But remember this is also use for multiple lines comment as well as for one line\n",
    "'''Multiple lines\n",
    "commnets\n",
    "here...'''\n",
    "\"\"\"Multple lines\n",
    "comments\n",
    "here!\"\"\""
   ]
  },
  {
   "cell_type": "markdown",
   "id": "718045ad",
   "metadata": {},
   "source": [
    "# Python Data Types\n",
    "* Immutable : In which you cannot change data after the declaration\n",
    "    * Numbers\n",
    "    * Stings\n",
    "    * Tuples\n",
    "* Mutable : In which you can change data after the declaration\n",
    "    * List\n",
    "    * Dictionaries\n",
    "    * Sets"
   ]
  },
  {
   "cell_type": "markdown",
   "id": "6d5f04a4",
   "metadata": {},
   "source": [
    "# What is function\n",
    "    * Function is the block of code to do some specific work like add two number etc\n",
    "* Internal Function(Provided by python)\n",
    "* External Function\n"
   ]
  },
  {
   "cell_type": "markdown",
   "id": "13b00c8c",
   "metadata": {},
   "source": [
    "* Internal Function\n",
    "    * int()\n",
    "    * string()\n",
    "    * upper()\n",
    "    * isalpha(),...etc"
   ]
  },
  {
   "cell_type": "markdown",
   "id": "44635c13",
   "metadata": {},
   "source": [
    "# Datatypes in Python\n",
    "* Immutable means: (cannnot change after declaration..)\n",
    "* Number(integer, float/double, complex)\n"
   ]
  },
  {
   "cell_type": "code",
   "execution_count": null,
   "id": "082813e0",
   "metadata": {},
   "outputs": [],
   "source": [
    "a = 2\n",
    "print(\"Memory Address of a is: {}\".format(id(a)))\n",
    "\n",
    "a = 3 #(Index number changing)\n",
    "print(\"Memory Address of a is: {}\".format(id(a))) # memory address change"
   ]
  },
  {
   "cell_type": "markdown",
   "id": "50245cfd",
   "metadata": {},
   "source": [
    "# # Number"
   ]
  },
  {
   "cell_type": "code",
   "execution_count": null,
   "id": "2da1ccd7",
   "metadata": {},
   "outputs": [],
   "source": [
    "a = 1;\n",
    "print(a)\n",
    "b = 2.52;\n",
    "print(b)\n",
    "c = 2+5j;\n",
    "print(c)"
   ]
  },
  {
   "cell_type": "markdown",
   "id": "2d05d359",
   "metadata": {},
   "source": [
    "# #String"
   ]
  },
  {
   "cell_type": "code",
   "execution_count": null,
   "id": "779ffe4b",
   "metadata": {},
   "outputs": [],
   "source": [
    "s1 = 'Aakash'\n",
    "s2 = \"Singh\"\n",
    "# Cont\n",
    "print(s1 + s2) # + sign use for concatination"
   ]
  },
  {
   "cell_type": "code",
   "execution_count": null,
   "id": "e2dd6b72",
   "metadata": {},
   "outputs": [],
   "source": [
    "# Rep\n",
    "print(s1*3) # repeat"
   ]
  },
  {
   "cell_type": "code",
   "execution_count": null,
   "id": "7e8fd45b",
   "metadata": {},
   "outputs": [],
   "source": [
    "#slice\n",
    "print(s1[0:4]) # exclude 4"
   ]
  },
  {
   "cell_type": "code",
   "execution_count": null,
   "id": "2f5f2e70",
   "metadata": {},
   "outputs": [],
   "source": [
    "# index\n",
    "print(s1[-1:]+s1[1])"
   ]
  },
  {
   "cell_type": "code",
   "execution_count": null,
   "id": "3fa5d65c",
   "metadata": {},
   "outputs": [],
   "source": [
    "# find\n",
    "print(s1.find('h')) # Give index"
   ]
  },
  {
   "cell_type": "code",
   "execution_count": null,
   "id": "fb418cc1",
   "metadata": {},
   "outputs": [],
   "source": [
    "# replace\n",
    "print(s1.replace('h','z')) # Replace h with z(Return a copy with all occurrences of substring old replaced by new.)"
   ]
  },
  {
   "cell_type": "code",
   "execution_count": null,
   "id": "6bff4ada",
   "metadata": {},
   "outputs": [],
   "source": [
    "# split\n",
    "print(s1.split(',')) # Inclose in single quot"
   ]
  },
  {
   "cell_type": "code",
   "execution_count": null,
   "id": "ad951895",
   "metadata": {},
   "outputs": [],
   "source": [
    "# Count\n",
    "print(s1.count('a',0,4)) # upto 4"
   ]
  },
  {
   "cell_type": "code",
   "execution_count": null,
   "id": "10aa1640",
   "metadata": {},
   "outputs": [],
   "source": [
    "# upper\n",
    "print(s1.upper()) # Upper case(Captilize)"
   ]
  },
  {
   "cell_type": "code",
   "execution_count": null,
   "id": "04abb290",
   "metadata": {},
   "outputs": [],
   "source": [
    "# max\n",
    "print(max(s1)) # Last in alpha"
   ]
  },
  {
   "cell_type": "code",
   "execution_count": null,
   "id": "98151894",
   "metadata": {},
   "outputs": [],
   "source": [
    "print(min(s1)) # First in alphabetical"
   ]
  },
  {
   "cell_type": "code",
   "execution_count": null,
   "id": "03cd81a7",
   "metadata": {},
   "outputs": [],
   "source": [
    "# isalpha\n",
    "print(s1.isalpha())"
   ]
  },
  {
   "cell_type": "markdown",
   "id": "3b42fb2e",
   "metadata": {},
   "source": [
    "# Space left, Right, or Both Side"
   ]
  },
  {
   "cell_type": "code",
   "execution_count": null,
   "id": "3476ad3e",
   "metadata": {},
   "outputs": [],
   "source": [
    "s2 = \" Aakash\"\n",
    "s3 = 'Singh '\n",
    "s4 = \" Kumar \"\n",
    "print(s2)"
   ]
  },
  {
   "cell_type": "code",
   "execution_count": null,
   "id": "0a573bfc",
   "metadata": {},
   "outputs": [],
   "source": [
    "print(s2)\n",
    "print(s2.lstrip()) # Left space remove"
   ]
  },
  {
   "cell_type": "code",
   "execution_count": null,
   "id": "9e60d64a",
   "metadata": {},
   "outputs": [],
   "source": [
    "print(s3)\n",
    "print(s3.rsplit()) # Right Space remove"
   ]
  },
  {
   "cell_type": "code",
   "execution_count": null,
   "id": "cded4975",
   "metadata": {},
   "outputs": [],
   "source": [
    "print(s4)\n",
    "print(s4.strip()) # Both Side space remove"
   ]
  },
  {
   "cell_type": "markdown",
   "id": "0ea5db26",
   "metadata": {},
   "source": [
    "# Tuples"
   ]
  },
  {
   "cell_type": "code",
   "execution_count": null,
   "id": "1351a91f",
   "metadata": {},
   "outputs": [],
   "source": [
    "tup = (1,1.25,3j,'a',\"ABC\") # small bracket\n",
    "print(tup)"
   ]
  },
  {
   "cell_type": "code",
   "execution_count": null,
   "id": "5e71d367",
   "metadata": {},
   "outputs": [],
   "source": [
    "tup1 = (1, 1.25, 3j, 'a', \"ABC\", (1,2,3,4,\"asdf\")) # Nested tuple\n",
    "print(tup1)"
   ]
  },
  {
   "cell_type": "code",
   "execution_count": null,
   "id": "98726c7b",
   "metadata": {},
   "outputs": [],
   "source": [
    "print(tup + (11,11)) # concatenation"
   ]
  },
  {
   "cell_type": "code",
   "execution_count": null,
   "id": "fdec7530",
   "metadata": {},
   "outputs": [],
   "source": [
    "print(tup*2) # repetion property"
   ]
  },
  {
   "cell_type": "code",
   "execution_count": null,
   "id": "ccf8c415",
   "metadata": {},
   "outputs": [],
   "source": [
    "print(tup[1:2]) # Slice (2 excluded)"
   ]
  },
  {
   "cell_type": "code",
   "execution_count": null,
   "id": "c5f9bfb6",
   "metadata": {},
   "outputs": [],
   "source": [
    "print(tup[2:2]) # Slice (2 excluded)"
   ]
  },
  {
   "cell_type": "code",
   "execution_count": null,
   "id": "c87ec1f3",
   "metadata": {},
   "outputs": [],
   "source": [
    "print(tup[0]) "
   ]
  },
  {
   "cell_type": "code",
   "execution_count": null,
   "id": "30e8a677",
   "metadata": {},
   "outputs": [],
   "source": [
    "tup[0] = 4"
   ]
  },
  {
   "cell_type": "markdown",
   "id": "c4fe088e",
   "metadata": {},
   "source": [
    "# Datatypes in Python\n",
    "## Mutable means(Can change after declaration...)"
   ]
  },
  {
   "cell_type": "markdown",
   "id": "683d1f8a",
   "metadata": {},
   "source": [
    "# List, Dict, Set"
   ]
  },
  {
   "cell_type": "code",
   "execution_count": null,
   "id": "1d99e164",
   "metadata": {},
   "outputs": [],
   "source": [
    "li = [1,1.25,'asdf','ss',5j] # Initialize using Squre bracket or (list key word)\n",
    "print(li)\n",
    "Dict = {1:\"abc\",2:\"DBA\",3:1235} # Initialize using {} (key,values pairs) or dict key word\n",
    "print(Dict)\n",
    "Set = {1,2,3,4,5} # Initialize using {} or set key words\n",
    "print(Set)"
   ]
  },
  {
   "cell_type": "markdown",
   "id": "abf85cd9",
   "metadata": {},
   "source": [
    "# List"
   ]
  },
  {
   "cell_type": "code",
   "execution_count": null,
   "id": "c0be3566",
   "metadata": {},
   "outputs": [],
   "source": [
    "listt = [1,1.25,\"asdf\",'ss',5j]\n",
    "print(listt)"
   ]
  },
  {
   "cell_type": "code",
   "execution_count": null,
   "id": "cd0712b6",
   "metadata": {},
   "outputs": [],
   "source": [
    "listt[0] = \"Asia\" # change (mutable)\n",
    "print(listt)"
   ]
  },
  {
   "cell_type": "code",
   "execution_count": null,
   "id": "4fb7e0e0",
   "metadata": {},
   "outputs": [],
   "source": [
    "print(listt)\n",
    "print(listt + [\"Aakash\"]) # Contactinate"
   ]
  },
  {
   "cell_type": "code",
   "execution_count": null,
   "id": "bd95a16d",
   "metadata": {},
   "outputs": [],
   "source": [
    "print(listt)\n",
    "print(listt*2) # Repeat 2 times"
   ]
  },
  {
   "cell_type": "code",
   "execution_count": null,
   "id": "b86a4475",
   "metadata": {},
   "outputs": [],
   "source": [
    "print(listt)\n",
    "print(listt[1:3]) # Slice"
   ]
  },
  {
   "cell_type": "code",
   "execution_count": null,
   "id": "a189fd67",
   "metadata": {},
   "outputs": [],
   "source": [
    "print(listt)\n",
    "print(listt[0]) "
   ]
  },
  {
   "cell_type": "code",
   "execution_count": null,
   "id": "6cfc6501",
   "metadata": {},
   "outputs": [],
   "source": [
    "print(listt)\n",
    "print(listt.append(\"Singh\")) # add one value\n"
   ]
  },
  {
   "cell_type": "code",
   "execution_count": null,
   "id": "c1a96a89",
   "metadata": {},
   "outputs": [],
   "source": [
    "print(listt)"
   ]
  },
  {
   "cell_type": "code",
   "execution_count": null,
   "id": "a83c94ca",
   "metadata": {},
   "outputs": [],
   "source": [
    "print(listt.extend([\"sss\",'d','asd'])) # more than one value add"
   ]
  },
  {
   "cell_type": "code",
   "execution_count": null,
   "id": "e825d026",
   "metadata": {},
   "outputs": [],
   "source": [
    "print(listt)"
   ]
  },
  {
   "cell_type": "code",
   "execution_count": null,
   "id": "9a28c069",
   "metadata": {},
   "outputs": [],
   "source": [
    "print(listt.insert(0,\"Hdfc\")) # Add values at specific position"
   ]
  },
  {
   "cell_type": "code",
   "execution_count": null,
   "id": "32b14cf8",
   "metadata": {},
   "outputs": [],
   "source": [
    "print(listt)"
   ]
  },
  {
   "cell_type": "code",
   "execution_count": null,
   "id": "2b86add9",
   "metadata": {},
   "outputs": [],
   "source": [
    "print(listt.pop()) # remove last element"
   ]
  },
  {
   "cell_type": "code",
   "execution_count": null,
   "id": "5e1b6a42",
   "metadata": {},
   "outputs": [],
   "source": [
    "print(listt)"
   ]
  },
  {
   "cell_type": "code",
   "execution_count": null,
   "id": "8d0e7d7b",
   "metadata": {},
   "outputs": [],
   "source": [
    "nested_list = [1,1.25,\"asdf\",'ss',5j,[1,2,3,4,\"asdf\"]]\n",
    "print(nested_list)"
   ]
  },
  {
   "cell_type": "markdown",
   "id": "6a41162b",
   "metadata": {},
   "source": [
    "# Dictionary"
   ]
  },
  {
   "cell_type": "code",
   "execution_count": null,
   "id": "7204ed65",
   "metadata": {},
   "outputs": [],
   "source": [
    "Dict1 = {} # Initialize dictionary\n",
    "Dict = {1:\"Hdfc\",2:\"Life\",\"Insurance\":\"Yes\"} # Keys-values\n",
    "print(Dict)"
   ]
  },
  {
   "cell_type": "code",
   "execution_count": null,
   "id": "904ec350",
   "metadata": {},
   "outputs": [],
   "source": [
    "print(Dict[1]) # Access key No 1"
   ]
  },
  {
   "cell_type": "code",
   "execution_count": null,
   "id": "a3c2d1b1",
   "metadata": {},
   "outputs": [],
   "source": [
    "print(len(Dict)) # length key Dict"
   ]
  },
  {
   "cell_type": "code",
   "execution_count": null,
   "id": "99bb74a9",
   "metadata": {},
   "outputs": [],
   "source": [
    "print(Dict.keys()) # print all keys"
   ]
  },
  {
   "cell_type": "code",
   "execution_count": null,
   "id": "5530108e",
   "metadata": {},
   "outputs": [],
   "source": [
    "print(Dict.values()) # print all values"
   ]
  },
  {
   "cell_type": "code",
   "execution_count": null,
   "id": "119995ff",
   "metadata": {},
   "outputs": [],
   "source": [
    "print(Dict.items()) # print all items"
   ]
  },
  {
   "cell_type": "code",
   "execution_count": null,
   "id": "11c0bffb",
   "metadata": {},
   "outputs": [],
   "source": [
    "print(Dict.get(1)) # using get method"
   ]
  },
  {
   "cell_type": "code",
   "execution_count": null,
   "id": "58dfd5a9",
   "metadata": {},
   "outputs": [],
   "source": [
    "print(Dict.update({2:\"Bank\"})) # update values using key\n",
    "print(Dict)"
   ]
  },
  {
   "cell_type": "code",
   "execution_count": null,
   "id": "e2a2dfe3",
   "metadata": {},
   "outputs": [],
   "source": [
    "print(Dict.pop(2)) # remove using keu"
   ]
  },
  {
   "cell_type": "code",
   "execution_count": null,
   "id": "8fbcf64c",
   "metadata": {},
   "outputs": [],
   "source": [
    "print(Dict)"
   ]
  },
  {
   "cell_type": "markdown",
   "id": "a9d79d05",
   "metadata": {},
   "source": [
    "# Set"
   ]
  },
  {
   "cell_type": "code",
   "execution_count": null,
   "id": "ff5fe748",
   "metadata": {},
   "outputs": [],
   "source": [
    "s = {1,2,3,4,5,5,5,5} #repeatation not allowed \n",
    "print(s)"
   ]
  },
  {
   "cell_type": "code",
   "execution_count": null,
   "id": "906d872a",
   "metadata": {},
   "outputs": [],
   "source": [
    "S1 = {1,2,3}\n",
    "S2 = {1,2,'b'}"
   ]
  },
  {
   "cell_type": "code",
   "execution_count": null,
   "id": "fcfa0add",
   "metadata": {},
   "outputs": [],
   "source": [
    "print(S1 | S2) # Union"
   ]
  },
  {
   "cell_type": "code",
   "execution_count": null,
   "id": "15615575",
   "metadata": {},
   "outputs": [],
   "source": [
    "print(S1 & S2) # Intersection"
   ]
  },
  {
   "cell_type": "code",
   "execution_count": null,
   "id": "978f7f6d",
   "metadata": {},
   "outputs": [],
   "source": [
    "print(S1  - S2) # Minus"
   ]
  },
  {
   "cell_type": "markdown",
   "id": "8f6bf0c9",
   "metadata": {},
   "source": [
    "# If Else (Family) in Python"
   ]
  },
  {
   "cell_type": "code",
   "execution_count": null,
   "id": "53322fac",
   "metadata": {},
   "outputs": [],
   "source": [
    "# If Else used for Condition\n",
    "a = 1\n",
    "if (a>=1):\n",
    "    print(\"The value of a is 1 or greater \",str(a))"
   ]
  },
  {
   "cell_type": "code",
   "execution_count": null,
   "id": "5ee185ee",
   "metadata": {},
   "outputs": [],
   "source": [
    "# If Else used for Condition\n",
    "a = 1\n",
    "if (a>=1):\n",
    "    print(\"The value of a is 1 or greater \",str(a))\n",
    "else:\n",
    "    print(\"Else body of if!\")"
   ]
  },
  {
   "cell_type": "code",
   "execution_count": null,
   "id": "53896716",
   "metadata": {},
   "outputs": [],
   "source": [
    "# If Else used for Condition\n",
    "a = 0\n",
    "if (a>=1):\n",
    "    print(\"The value of a is 1 or greater \",str(a))\n",
    "else:\n",
    "    print(\"Else body of if!\")"
   ]
  },
  {
   "cell_type": "code",
   "execution_count": null,
   "id": "bc97e7b6",
   "metadata": {},
   "outputs": [],
   "source": [
    "# Nested If - Else\n",
    "a = 1\n",
    "b = 2\n",
    "if (a>=1):\n",
    "    print(\"The  value of a is 1 or greater  \"+str(a))\n",
    "    if (b==2):\n",
    "        print(\"Nested if!\")\n",
    "    else:\n",
    "        print(\"Fist If Body\")\n",
    "else:\n",
    "    print(\"First if else body\")"
   ]
  },
  {
   "cell_type": "code",
   "execution_count": null,
   "id": "1fa022a3",
   "metadata": {},
   "outputs": [],
   "source": [
    "# if-else-if\n",
    "a = 10\n",
    "b = 20\n",
    "c = 30\n",
    "if(a>10):\n",
    "    print(\"Greater\")\n",
    "elif(b>=20):\n",
    "    print(\"20 Grater or equal\")\n",
    "elif(c>30):\n",
    "    print(\"Greater\")"
   ]
  },
  {
   "cell_type": "code",
   "execution_count": null,
   "id": "a695184c",
   "metadata": {},
   "outputs": [],
   "source": [
    "# if-else-if-else\n",
    "a = 1\n",
    "b = 2\n",
    "c = 3\n",
    "if(a>10):\n",
    "    print(\"Greater\")\n",
    "elif(b>=20):\n",
    "    print(\"20 Grater or equal\")\n",
    "elif(c>30):\n",
    "    print(\"Greater\")\n",
    "else:\n",
    "    print(\"Default\")"
   ]
  },
  {
   "cell_type": "markdown",
   "id": "b8145ad3",
   "metadata": {},
   "source": [
    "# Loops(For,While),jump Statement in Python"
   ]
  },
  {
   "cell_type": "markdown",
   "id": "ae59cf57",
   "metadata": {},
   "source": [
    "## For Loop"
   ]
  },
  {
   "cell_type": "code",
   "execution_count": null,
   "id": "e1c2ff64",
   "metadata": {},
   "outputs": [],
   "source": [
    "for a in range(10): # 10 excluded\n",
    "    print(a)"
   ]
  },
  {
   "cell_type": "code",
   "execution_count": null,
   "id": "12e9a551",
   "metadata": {},
   "outputs": [],
   "source": [
    "# Range\n",
    "print(range(10))\n",
    "list(range(10))"
   ]
  },
  {
   "cell_type": "code",
   "execution_count": null,
   "id": "f840a86f",
   "metadata": {},
   "outputs": [],
   "source": [
    "for a in range(1,10,1):\n",
    "    print(a)"
   ]
  },
  {
   "cell_type": "code",
   "execution_count": null,
   "id": "7c941b50",
   "metadata": {},
   "outputs": [],
   "source": [
    "for a in range(1,10,2):\n",
    "    print(a)"
   ]
  },
  {
   "cell_type": "code",
   "execution_count": null,
   "id": "209cc81a",
   "metadata": {},
   "outputs": [],
   "source": [
    "# Even Number\n",
    "for a in range(2,11,2):\n",
    "    print(a)"
   ]
  },
  {
   "cell_type": "code",
   "execution_count": null,
   "id": "359863a8",
   "metadata": {},
   "outputs": [],
   "source": [
    "# Odd Number\n",
    "for a in range(1,11,2):\n",
    "    print(a)"
   ]
  },
  {
   "cell_type": "code",
   "execution_count": null,
   "id": "d77ed7f8",
   "metadata": {},
   "outputs": [],
   "source": [
    "# Nested Loop\n",
    "for a in range(1,11,2):\n",
    "    print(a)\n",
    "    for b in range(11,20,2): # Nested Loop\n",
    "        print(b)"
   ]
  },
  {
   "cell_type": "markdown",
   "id": "089b89d5",
   "metadata": {},
   "source": [
    "## While loop"
   ]
  },
  {
   "cell_type": "code",
   "execution_count": null,
   "id": "fb3e54d1",
   "metadata": {},
   "outputs": [],
   "source": [
    "z = 0\n",
    "while(z<=10):\n",
    "    print(z)\n",
    "    z+=1"
   ]
  },
  {
   "cell_type": "code",
   "execution_count": null,
   "id": "f9548c30",
   "metadata": {},
   "outputs": [],
   "source": [
    "z = 0\n",
    "while(z<=10):\n",
    "    print(z)\n",
    "    zz = 0\n",
    "    while zz<=10:\n",
    "        print(zz)\n",
    "        zz+=1\n",
    "    z+=1"
   ]
  },
  {
   "cell_type": "markdown",
   "id": "51bad4fe",
   "metadata": {},
   "source": [
    "## Jump\n",
    "### Continue, break, pass"
   ]
  },
  {
   "cell_type": "code",
   "execution_count": null,
   "id": "fe056544",
   "metadata": {},
   "outputs": [],
   "source": [
    "for i in range(1,11):\n",
    "    if i==1:\n",
    "        pass # Steps Pass forward\n",
    "    if i==5:\n",
    "        continue # Skip 5 or ignore 5\n",
    "    if i==8:\n",
    "        break # Break loop\n",
    "    print(\"This is iteration no. \",i)"
   ]
  },
  {
   "cell_type": "code",
   "execution_count": null,
   "id": "2eabb8a5",
   "metadata": {},
   "outputs": [],
   "source": [
    "for i in range(1,11):\n",
    "    if i==1:\n",
    "        pass # Steps Pass forward\n",
    "    print(\"This is iteration no. \",i)\n",
    "    "
   ]
  },
  {
   "cell_type": "code",
   "execution_count": null,
   "id": "e1ad7d80",
   "metadata": {},
   "outputs": [],
   "source": [
    "for i in range(1,11):\n",
    "    if i==1:\n",
    "        continue # Skip 5 or ignore 1\n",
    "    print(\"This is iteration no. \",i)\n",
    "    "
   ]
  },
  {
   "cell_type": "code",
   "execution_count": null,
   "id": "420a96d8",
   "metadata": {},
   "outputs": [],
   "source": [
    "for i in range(1,11):\n",
    "    if i==4:\n",
    "        break # break loop when i==4\n",
    "    print(\"This is iteration no. \",i)\n",
    "    "
   ]
  },
  {
   "cell_type": "markdown",
   "id": "8e1155c9",
   "metadata": {},
   "source": [
    "# Python Operators (Arithmetic,Comparison and Assignment Operator)"
   ]
  },
  {
   "cell_type": "markdown",
   "id": "d6a9fa26",
   "metadata": {},
   "source": [
    "## Arithematic Operation in Python"
   ]
  },
  {
   "cell_type": "code",
   "execution_count": 3,
   "id": "1eb81f8d",
   "metadata": {},
   "outputs": [
    {
     "name": "stdout",
     "output_type": "stream",
     "text": [
      "10\n",
      "4\n",
      "21\n",
      "2.3333333333333335\n",
      "1\n",
      "343\n",
      "2\n"
     ]
    }
   ],
   "source": [
    "a = 7\n",
    "b = 3\n",
    "print(a+b) # Add\n",
    "print(a-b) # Subtract\n",
    "print(a*b) # Multiply\n",
    "print(a/b) # Divide\n",
    "print(a%b) # mod\n",
    "print(a**b) # power\n",
    "print(a//b) # Flor division or round"
   ]
  },
  {
   "cell_type": "markdown",
   "id": "02e2016d",
   "metadata": {},
   "source": [
    "## Comparison Operators"
   ]
  },
  {
   "cell_type": "code",
   "execution_count": 4,
   "id": "3989df62",
   "metadata": {},
   "outputs": [
    {
     "name": "stdout",
     "output_type": "stream",
     "text": [
      "True\n",
      "False\n",
      "True\n",
      "False\n",
      "True\n",
      "False\n"
     ]
    }
   ],
   "source": [
    "a = 7\n",
    "b = 3\n",
    "print(a>b) # Greater\n",
    "print(a<b) # Less\n",
    "print(a>=b) # Greater or equal\n",
    "print(a<=b) #  equal or less\n",
    "print(a!=b) # Not equal\n",
    "print(a==b) # equal\n"
   ]
  },
  {
   "cell_type": "markdown",
   "id": "bed3819e",
   "metadata": {},
   "source": [
    "## Assignment Operators"
   ]
  },
  {
   "cell_type": "code",
   "execution_count": 6,
   "id": "2ff574a4",
   "metadata": {},
   "outputs": [
    {
     "name": "stdout",
     "output_type": "stream",
     "text": [
      "1\n",
      "3\n"
     ]
    }
   ],
   "source": [
    "a = 1\n",
    "print(a)\n",
    "a+=2 # a = a + 2\n",
    "print(a)"
   ]
  },
  {
   "cell_type": "code",
   "execution_count": 9,
   "id": "e9e2fffe",
   "metadata": {},
   "outputs": [
    {
     "name": "stdout",
     "output_type": "stream",
     "text": [
      "2\n",
      "6\n"
     ]
    }
   ],
   "source": [
    "a = 2\n",
    "print(a)\n",
    "a*=3 # a = a * 3\n",
    "print(a)"
   ]
  },
  {
   "cell_type": "code",
   "execution_count": 10,
   "id": "3deb4ec7",
   "metadata": {},
   "outputs": [
    {
     "name": "stdout",
     "output_type": "stream",
     "text": [
      "2\n",
      "-1\n"
     ]
    }
   ],
   "source": [
    "a = 2\n",
    "print(a)\n",
    "a-=3 # a = a - 3\n",
    "print(a)"
   ]
  },
  {
   "cell_type": "markdown",
   "id": "aec5b822",
   "metadata": {},
   "source": [
    "## Logical Operator in Python (and, or, not)"
   ]
  },
  {
   "cell_type": "code",
   "execution_count": 11,
   "id": "7bd85af4",
   "metadata": {},
   "outputs": [
    {
     "name": "stdout",
     "output_type": "stream",
     "text": [
      "False\n"
     ]
    }
   ],
   "source": [
    "a = True\n",
    "b = False\n",
    "print(a and b) # both true"
   ]
  },
  {
   "cell_type": "code",
   "execution_count": 12,
   "id": "c555572a",
   "metadata": {},
   "outputs": [
    {
     "name": "stdout",
     "output_type": "stream",
     "text": [
      "True\n"
     ]
    }
   ],
   "source": [
    "print(a or b) # Only one true"
   ]
  },
  {
   "cell_type": "code",
   "execution_count": 13,
   "id": "5101eb08",
   "metadata": {},
   "outputs": [
    {
     "name": "stdout",
     "output_type": "stream",
     "text": [
      "True\n"
     ]
    }
   ],
   "source": [
    "print(not b)"
   ]
  },
  {
   "cell_type": "code",
   "execution_count": 15,
   "id": "93636eb9",
   "metadata": {},
   "outputs": [
    {
     "name": "stdout",
     "output_type": "stream",
     "text": [
      "True\n"
     ]
    }
   ],
   "source": [
    "a = 2\n",
    "b = 5\n",
    "c = 50\n",
    "if ((a)>=5 and b>=b) or (c>=49):\n",
    "    print(\"True\")\n",
    "else:\n",
    "    print(\"Not True\")"
   ]
  },
  {
   "cell_type": "markdown",
   "id": "09c470b2",
   "metadata": {},
   "source": [
    "## Membership Operator(in, not in)"
   ]
  },
  {
   "cell_type": "code",
   "execution_count": 16,
   "id": "15a91ff0",
   "metadata": {},
   "outputs": [
    {
     "name": "stdout",
     "output_type": "stream",
     "text": [
      "True\n"
     ]
    }
   ],
   "source": [
    "var = ['a',23,25.12,'Hdfc']\n",
    "print('a' in var)"
   ]
  },
  {
   "cell_type": "code",
   "execution_count": 17,
   "id": "88d51535",
   "metadata": {},
   "outputs": [
    {
     "name": "stdout",
     "output_type": "stream",
     "text": [
      "True\n"
     ]
    }
   ],
   "source": [
    "print('b' not in var)"
   ]
  },
  {
   "cell_type": "markdown",
   "id": "d09b630b",
   "metadata": {},
   "source": [
    "## Identity Operator (is, is not)"
   ]
  },
  {
   "cell_type": "code",
   "execution_count": 18,
   "id": "9de37c97",
   "metadata": {},
   "outputs": [
    {
     "name": "stdout",
     "output_type": "stream",
     "text": [
      "True\n"
     ]
    }
   ],
   "source": [
    "x = 5\n",
    "y = 5\n",
    "z = 4\n",
    "print(x is y)"
   ]
  },
  {
   "cell_type": "code",
   "execution_count": 19,
   "id": "c58e3a29",
   "metadata": {},
   "outputs": [
    {
     "name": "stdout",
     "output_type": "stream",
     "text": [
      "False\n"
     ]
    }
   ],
   "source": [
    "print(x is not y)"
   ]
  },
  {
   "cell_type": "code",
   "execution_count": 20,
   "id": "85718566",
   "metadata": {},
   "outputs": [
    {
     "name": "stdout",
     "output_type": "stream",
     "text": [
      "True\n"
     ]
    }
   ],
   "source": [
    "print(x is not z)"
   ]
  },
  {
   "cell_type": "markdown",
   "id": "c795457f",
   "metadata": {},
   "source": [
    "# File Handling in Python"
   ]
  },
  {
   "cell_type": "markdown",
   "id": "a848a494",
   "metadata": {},
   "source": [
    "**File Handling**\n",
    "* File Handling is an important part of any web application/Development\n",
    "* Python has several functions for creating, reading, updating and deleting files\n"
   ]
  },
  {
   "cell_type": "markdown",
   "id": "9b0b99a2",
   "metadata": {},
   "source": [
    "**File handling**\n",
    "* The key function for working with files in  python is the open() function.\n",
    "* The open() function takes two parameters; filename and mode"
   ]
  },
  {
   "cell_type": "markdown",
   "id": "5ffd5e36",
   "metadata": {},
   "source": [
    "**There are four different methods (modes) for opening a file**\n",
    "* \"a\" - Append - Open a file for appending, creates the file if it does not exist\n",
    "* \"w\" - Write - Opens a file for writing, creates the file if it does not exist\n",
    "* \"r\" - Read - Default value. opens a file for reading, error, if the file does not exist\n",
    "* also, r+ both reading and writing"
   ]
  },
  {
   "cell_type": "markdown",
   "id": "e04bd652",
   "metadata": {},
   "source": [
    "* \"x\" - Create - Creates the specified file, returns an error if the file exists\n",
    "* In addition you can specify if the file should be handled as binary or text mode\n"
   ]
  },
  {
   "cell_type": "markdown",
   "id": "de651d49",
   "metadata": {},
   "source": [
    "* \"t\" - Text - Default value.Text mode\n",
    "* \"b\" - binary - Binary mode (e.g. Images)"
   ]
  },
  {
   "cell_type": "code",
   "execution_count": 21,
   "id": "6f637909",
   "metadata": {},
   "outputs": [
    {
     "name": "stdout",
     "output_type": "stream",
     "text": [
      " Volume in drive C is Windows-SSD\n",
      " Volume Serial Number is 82A7-5D26\n",
      "\n",
      " Directory of C:\\Users\\aakas\\Python_Tut\\Python\n",
      "\n",
      "09-05-2023  13:32    <DIR>          .\n",
      "08-05-2023  17:36    <DIR>          ..\n",
      "08-05-2023  17:44    <DIR>          .ipynb_checkpoints\n",
      "09-05-2023  13:32            29,539 Python_For_Beginners.ipynb\n",
      "               1 File(s)         29,539 bytes\n",
      "               3 Dir(s)  138,916,782,080 bytes free\n"
     ]
    }
   ],
   "source": [
    "ls"
   ]
  },
  {
   "cell_type": "code",
   "execution_count": 22,
   "id": "b6f5bf21",
   "metadata": {},
   "outputs": [],
   "source": [
    "# a ==> append file\n",
    "f = open(\"file1.txt\",\"a\")\n",
    "f.write(\"Now the file has more content67767!\\n\")\n",
    "f.write(\"Now the file has more content234!\\n\")\n",
    "f.write(\"Now the file has more contentqwer!\\n\")\n",
    "f.write(\"Now the file has more contentasdf!\\n\")\n",
    "\n",
    "f.close()"
   ]
  },
  {
   "cell_type": "code",
   "execution_count": 23,
   "id": "fbd7b721",
   "metadata": {},
   "outputs": [
    {
     "ename": "FileNotFoundError",
     "evalue": "[Errno 2] No such file or directory: 'file2.txt'",
     "output_type": "error",
     "traceback": [
      "\u001b[1;31m---------------------------------------------------------------------------\u001b[0m",
      "\u001b[1;31mFileNotFoundError\u001b[0m                         Traceback (most recent call last)",
      "Cell \u001b[1;32mIn[23], line 2\u001b[0m\n\u001b[0;32m      1\u001b[0m \u001b[38;5;66;03m# Open and read the file after the appeding\u001b[39;00m\n\u001b[1;32m----> 2\u001b[0m f \u001b[38;5;241m=\u001b[39m \u001b[38;5;28;43mopen\u001b[39;49m\u001b[43m(\u001b[49m\u001b[38;5;124;43m'\u001b[39;49m\u001b[38;5;124;43mfile2.txt\u001b[39;49m\u001b[38;5;124;43m'\u001b[39;49m\u001b[43m,\u001b[49m\u001b[38;5;124;43m'\u001b[39;49m\u001b[38;5;124;43mr\u001b[39;49m\u001b[38;5;124;43m'\u001b[39;49m\u001b[43m)\u001b[49m \u001b[38;5;66;03m# file2 not exist\u001b[39;00m\n\u001b[0;32m      3\u001b[0m \u001b[38;5;28mprint\u001b[39m(f\u001b[38;5;241m.\u001b[39mread())\n",
      "File \u001b[1;32m~\\.conda\\envs\\em\\lib\\site-packages\\IPython\\core\\interactiveshell.py:282\u001b[0m, in \u001b[0;36m_modified_open\u001b[1;34m(file, *args, **kwargs)\u001b[0m\n\u001b[0;32m    275\u001b[0m \u001b[38;5;28;01mif\u001b[39;00m file \u001b[38;5;129;01min\u001b[39;00m {\u001b[38;5;241m0\u001b[39m, \u001b[38;5;241m1\u001b[39m, \u001b[38;5;241m2\u001b[39m}:\n\u001b[0;32m    276\u001b[0m     \u001b[38;5;28;01mraise\u001b[39;00m \u001b[38;5;167;01mValueError\u001b[39;00m(\n\u001b[0;32m    277\u001b[0m         \u001b[38;5;124mf\u001b[39m\u001b[38;5;124m\"\u001b[39m\u001b[38;5;124mIPython won\u001b[39m\u001b[38;5;124m'\u001b[39m\u001b[38;5;124mt let you open fd=\u001b[39m\u001b[38;5;132;01m{\u001b[39;00mfile\u001b[38;5;132;01m}\u001b[39;00m\u001b[38;5;124m by default \u001b[39m\u001b[38;5;124m\"\u001b[39m\n\u001b[0;32m    278\u001b[0m         \u001b[38;5;124m\"\u001b[39m\u001b[38;5;124mas it is likely to crash IPython. If you know what you are doing, \u001b[39m\u001b[38;5;124m\"\u001b[39m\n\u001b[0;32m    279\u001b[0m         \u001b[38;5;124m\"\u001b[39m\u001b[38;5;124myou can use builtins\u001b[39m\u001b[38;5;124m'\u001b[39m\u001b[38;5;124m open.\u001b[39m\u001b[38;5;124m\"\u001b[39m\n\u001b[0;32m    280\u001b[0m     )\n\u001b[1;32m--> 282\u001b[0m \u001b[38;5;28;01mreturn\u001b[39;00m \u001b[43mio_open\u001b[49m\u001b[43m(\u001b[49m\u001b[43mfile\u001b[49m\u001b[43m,\u001b[49m\u001b[43m \u001b[49m\u001b[38;5;241;43m*\u001b[39;49m\u001b[43margs\u001b[49m\u001b[43m,\u001b[49m\u001b[43m \u001b[49m\u001b[38;5;241;43m*\u001b[39;49m\u001b[38;5;241;43m*\u001b[39;49m\u001b[43mkwargs\u001b[49m\u001b[43m)\u001b[49m\n",
      "\u001b[1;31mFileNotFoundError\u001b[0m: [Errno 2] No such file or directory: 'file2.txt'"
     ]
    }
   ],
   "source": [
    "# Open and read the file after the appeding\n",
    "f = open('file2.txt','r') # file2 not exist\n",
    "print(f.read())"
   ]
  },
  {
   "cell_type": "code",
   "execution_count": 24,
   "id": "11ab797c",
   "metadata": {},
   "outputs": [
    {
     "name": "stdout",
     "output_type": "stream",
     "text": [
      "Now the file has more content67767!\n",
      "Now the file has more content234!\n",
      "Now the file has more contentqwer!\n",
      "Now the file has more contentasdf!\n",
      "\n"
     ]
    }
   ],
   "source": [
    "# Open and read the file after the appeding\n",
    "f = open('file1.txt','r') # file1  exist\n",
    "print(f.read())"
   ]
  },
  {
   "cell_type": "code",
   "execution_count": 25,
   "id": "953fdb4b",
   "metadata": {},
   "outputs": [],
   "source": [
    "# Write on the file\n",
    "f = open('file3.txt','w')\n",
    "f.write(\"Woops! I deleted the content\")\n",
    "f.close()"
   ]
  },
  {
   "cell_type": "code",
   "execution_count": 26,
   "id": "5579c479",
   "metadata": {},
   "outputs": [
    {
     "name": "stdout",
     "output_type": "stream",
     "text": [
      "Woops! I deleted the content\n"
     ]
    }
   ],
   "source": [
    "# open and read the file after the appending\n",
    "f = open('file3.txt','r')\n",
    "print(f.read())"
   ]
  },
  {
   "cell_type": "code",
   "execution_count": 28,
   "id": "3deb1415",
   "metadata": {},
   "outputs": [
    {
     "ename": "FileExistsError",
     "evalue": "[Errno 17] File exists: 'file3.txt'",
     "output_type": "error",
     "traceback": [
      "\u001b[1;31m---------------------------------------------------------------------------\u001b[0m",
      "\u001b[1;31mFileExistsError\u001b[0m                           Traceback (most recent call last)",
      "Cell \u001b[1;32mIn[28], line 2\u001b[0m\n\u001b[0;32m      1\u001b[0m \u001b[38;5;66;03m# \"x\" - Create - Creates the specified file, returns an error if the file exists\u001b[39;00m\n\u001b[1;32m----> 2\u001b[0m f \u001b[38;5;241m=\u001b[39m \u001b[38;5;28;43mopen\u001b[39;49m\u001b[43m(\u001b[49m\u001b[38;5;124;43m'\u001b[39;49m\u001b[38;5;124;43mfile3.txt\u001b[39;49m\u001b[38;5;124;43m'\u001b[39;49m\u001b[43m,\u001b[49m\u001b[38;5;124;43m'\u001b[39;49m\u001b[38;5;124;43mx\u001b[39;49m\u001b[38;5;124;43m'\u001b[39;49m\u001b[43m)\u001b[49m\n",
      "File \u001b[1;32m~\\.conda\\envs\\em\\lib\\site-packages\\IPython\\core\\interactiveshell.py:282\u001b[0m, in \u001b[0;36m_modified_open\u001b[1;34m(file, *args, **kwargs)\u001b[0m\n\u001b[0;32m    275\u001b[0m \u001b[38;5;28;01mif\u001b[39;00m file \u001b[38;5;129;01min\u001b[39;00m {\u001b[38;5;241m0\u001b[39m, \u001b[38;5;241m1\u001b[39m, \u001b[38;5;241m2\u001b[39m}:\n\u001b[0;32m    276\u001b[0m     \u001b[38;5;28;01mraise\u001b[39;00m \u001b[38;5;167;01mValueError\u001b[39;00m(\n\u001b[0;32m    277\u001b[0m         \u001b[38;5;124mf\u001b[39m\u001b[38;5;124m\"\u001b[39m\u001b[38;5;124mIPython won\u001b[39m\u001b[38;5;124m'\u001b[39m\u001b[38;5;124mt let you open fd=\u001b[39m\u001b[38;5;132;01m{\u001b[39;00mfile\u001b[38;5;132;01m}\u001b[39;00m\u001b[38;5;124m by default \u001b[39m\u001b[38;5;124m\"\u001b[39m\n\u001b[0;32m    278\u001b[0m         \u001b[38;5;124m\"\u001b[39m\u001b[38;5;124mas it is likely to crash IPython. If you know what you are doing, \u001b[39m\u001b[38;5;124m\"\u001b[39m\n\u001b[0;32m    279\u001b[0m         \u001b[38;5;124m\"\u001b[39m\u001b[38;5;124myou can use builtins\u001b[39m\u001b[38;5;124m'\u001b[39m\u001b[38;5;124m open.\u001b[39m\u001b[38;5;124m\"\u001b[39m\n\u001b[0;32m    280\u001b[0m     )\n\u001b[1;32m--> 282\u001b[0m \u001b[38;5;28;01mreturn\u001b[39;00m \u001b[43mio_open\u001b[49m\u001b[43m(\u001b[49m\u001b[43mfile\u001b[49m\u001b[43m,\u001b[49m\u001b[43m \u001b[49m\u001b[38;5;241;43m*\u001b[39;49m\u001b[43margs\u001b[49m\u001b[43m,\u001b[49m\u001b[43m \u001b[49m\u001b[38;5;241;43m*\u001b[39;49m\u001b[38;5;241;43m*\u001b[39;49m\u001b[43mkwargs\u001b[49m\u001b[43m)\u001b[49m\n",
      "\u001b[1;31mFileExistsError\u001b[0m: [Errno 17] File exists: 'file3.txt'"
     ]
    }
   ],
   "source": [
    "# \"x\" - Create - Creates the specified file, returns an error if the file exists\n",
    "f = open('file3.txt','x')"
   ]
  },
  {
   "cell_type": "code",
   "execution_count": 29,
   "id": "9ab35923",
   "metadata": {},
   "outputs": [],
   "source": [
    "# \"x\" - Create - Creates the specified file, returns an error if the file exists\n",
    "f = open('file4.txt','x')"
   ]
  },
  {
   "cell_type": "code",
   "execution_count": 30,
   "id": "1cc0594b",
   "metadata": {},
   "outputs": [
    {
     "name": "stdout",
     "output_type": "stream",
     "text": [
      "Now the file has more content67767!\n",
      "Now the file has more content234!\n",
      "Now the file has more contentqwer!\n",
      "Now the file has more contentasdf!\n",
      "\n"
     ]
    }
   ],
   "source": [
    "f = open('file1.txt','r')\n",
    "print(f.read())"
   ]
  },
  {
   "cell_type": "code",
   "execution_count": 31,
   "id": "10f96989",
   "metadata": {},
   "outputs": [
    {
     "name": "stdout",
     "output_type": "stream",
     "text": [
      "Now t\n"
     ]
    }
   ],
   "source": [
    "f = open('file1.txt','r')\n",
    "print(f.read(5))"
   ]
  },
  {
   "cell_type": "code",
   "execution_count": 32,
   "id": "74dddda5",
   "metadata": {},
   "outputs": [
    {
     "name": "stdout",
     "output_type": "stream",
     "text": [
      "Now the file has more content67767!\n",
      "\n"
     ]
    }
   ],
   "source": [
    "f = open('file1.txt','r')\n",
    "print(f.readline())"
   ]
  },
  {
   "cell_type": "code",
   "execution_count": 33,
   "id": "d1dff8eb",
   "metadata": {},
   "outputs": [
    {
     "name": "stdout",
     "output_type": "stream",
     "text": [
      "Now the file has more content67767!\n",
      "\n",
      "Now the file has more content234!\n",
      "\n"
     ]
    }
   ],
   "source": [
    "f = open('file1.txt','r')\n",
    "print(f.readline())\n",
    "print(f.readline())"
   ]
  },
  {
   "cell_type": "code",
   "execution_count": 34,
   "id": "05db87c6",
   "metadata": {},
   "outputs": [
    {
     "name": "stdout",
     "output_type": "stream",
     "text": [
      "Now the file has more content67767!\n",
      "\n",
      "Now the file has more content234!\n",
      "\n",
      "Now the file has more contentqwer!\n",
      "\n",
      "Now the file has more contentasdf!\n",
      "\n"
     ]
    }
   ],
   "source": [
    "f = open('file1.txt','r')\n",
    "for x in f:\n",
    "    print(x)\n"
   ]
  },
  {
   "cell_type": "code",
   "execution_count": 36,
   "id": "763dbb2d",
   "metadata": {},
   "outputs": [
    {
     "name": "stdout",
     "output_type": "stream",
     "text": [
      "Now the file has more content67767!\n",
      "\n"
     ]
    }
   ],
   "source": [
    "# It is good practics to close the file\n",
    "f = open('file1.txt','r')\n",
    "print(f.readline())\n",
    "f.close()"
   ]
  },
  {
   "cell_type": "code",
   "execution_count": 37,
   "id": "d34356f9",
   "metadata": {},
   "outputs": [],
   "source": [
    "# to delete the file\n",
    "import os\n",
    "os.remove('file3.txt')"
   ]
  },
  {
   "cell_type": "code",
   "execution_count": 38,
   "id": "efe6ada1",
   "metadata": {},
   "outputs": [],
   "source": [
    "# To delete the file using if else\n",
    "import os\n",
    "if os.path.exists('file4.txt'):\n",
    "    os.remove('file4.txt')\n",
    "else:\n",
    "    print(\"The file does not exist\")\n",
    "              "
   ]
  },
  {
   "cell_type": "code",
   "execution_count": 39,
   "id": "7a0f2151",
   "metadata": {},
   "outputs": [],
   "source": [
    "# create folder \n",
    "os.mkdir('my-folder')\n"
   ]
  },
  {
   "cell_type": "code",
   "execution_count": 40,
   "id": "25bd6db9",
   "metadata": {},
   "outputs": [],
   "source": [
    "# To delete folder\n",
    "import os\n",
    "os.rmdir('my-folder')"
   ]
  },
  {
   "cell_type": "markdown",
   "id": "9955574c",
   "metadata": {},
   "source": [
    "# Python Function"
   ]
  },
  {
   "cell_type": "markdown",
   "id": "f43e7e0e",
   "metadata": {},
   "source": [
    "**Function: Block of Code**\n",
    "* For Specific work, write a block of code"
   ]
  },
  {
   "cell_type": "code",
   "execution_count": 84,
   "id": "1ec57b4f",
   "metadata": {},
   "outputs": [],
   "source": [
    "def Sum(): # Zero parameter/ without parameter\n",
    "    a = 1 # created variable1\n",
    "    b = 2 # created variable2\n",
    "    print(a+b)"
   ]
  },
  {
   "cell_type": "code",
   "execution_count": 85,
   "id": "5a3c4789",
   "metadata": {},
   "outputs": [
    {
     "name": "stdout",
     "output_type": "stream",
     "text": [
      "3\n"
     ]
    }
   ],
   "source": [
    "Sum() # Function call"
   ]
  },
  {
   "cell_type": "markdown",
   "id": "48d019fb",
   "metadata": {},
   "source": [
    "#### Function with parameter"
   ]
  },
  {
   "cell_type": "code",
   "execution_count": 88,
   "id": "6b5a2762",
   "metadata": {},
   "outputs": [],
   "source": [
    "def sumpara(a,b):\n",
    "    return(a+b)"
   ]
  },
  {
   "cell_type": "code",
   "execution_count": 89,
   "id": "94f75011",
   "metadata": {},
   "outputs": [
    {
     "data": {
      "text/plain": [
       "10"
      ]
     },
     "execution_count": 89,
     "metadata": {},
     "output_type": "execute_result"
    }
   ],
   "source": [
    "sumpara(5,5)"
   ]
  },
  {
   "cell_type": "markdown",
   "id": "6f2835ab",
   "metadata": {},
   "source": [
    "##### Function inside function"
   ]
  },
  {
   "cell_type": "code",
   "execution_count": 90,
   "id": "68f1fdc8",
   "metadata": {},
   "outputs": [],
   "source": [
    "def First():\n",
    "    print(\"First\")\n",
    "    def Second():\n",
    "        print(\"Second\")\n",
    "    Second()"
   ]
  },
  {
   "cell_type": "code",
   "execution_count": 91,
   "id": "4846c8f5",
   "metadata": {},
   "outputs": [
    {
     "name": "stdout",
     "output_type": "stream",
     "text": [
      "First\n",
      "Second\n"
     ]
    }
   ],
   "source": [
    "First()"
   ]
  },
  {
   "cell_type": "code",
   "execution_count": null,
   "id": "77efaa21",
   "metadata": {},
   "outputs": [],
   "source": []
  },
  {
   "cell_type": "code",
   "execution_count": null,
   "id": "242dbcad",
   "metadata": {},
   "outputs": [],
   "source": []
  },
  {
   "cell_type": "code",
   "execution_count": null,
   "id": "fb163ff8",
   "metadata": {},
   "outputs": [],
   "source": []
  },
  {
   "cell_type": "code",
   "execution_count": null,
   "id": "b6b92dbc",
   "metadata": {},
   "outputs": [],
   "source": []
  },
  {
   "cell_type": "markdown",
   "id": "210243e3",
   "metadata": {},
   "source": [
    "# Print vs return in Python"
   ]
  },
  {
   "cell_type": "code",
   "execution_count": 55,
   "id": "ea8eab67",
   "metadata": {},
   "outputs": [],
   "source": [
    "def printfunction(a):\n",
    "    num = a*a\n",
    "    print(num)"
   ]
  },
  {
   "cell_type": "code",
   "execution_count": 56,
   "id": "e0d7b460",
   "metadata": {},
   "outputs": [
    {
     "name": "stdout",
     "output_type": "stream",
     "text": [
      "16\n"
     ]
    }
   ],
   "source": [
    "printfunction(4)"
   ]
  },
  {
   "cell_type": "code",
   "execution_count": 57,
   "id": "a260e00c",
   "metadata": {},
   "outputs": [],
   "source": [
    "def returnfunction(a):\n",
    "    num = a*a\n",
    "    return num"
   ]
  },
  {
   "cell_type": "code",
   "execution_count": 58,
   "id": "aa826503",
   "metadata": {},
   "outputs": [
    {
     "data": {
      "text/plain": [
       "16"
      ]
     },
     "execution_count": 58,
     "metadata": {},
     "output_type": "execute_result"
    }
   ],
   "source": [
    "returnfunction(4)"
   ]
  },
  {
   "cell_type": "code",
   "execution_count": 59,
   "id": "572ee815",
   "metadata": {},
   "outputs": [
    {
     "name": "stdout",
     "output_type": "stream",
     "text": [
      "16\n"
     ]
    }
   ],
   "source": [
    "# Basic Differnce\n",
    "p = printfunction(4) # only printing the value of and by default None value is retruning"
   ]
  },
  {
   "cell_type": "code",
   "execution_count": 64,
   "id": "426a69dd",
   "metadata": {},
   "outputs": [
    {
     "name": "stdout",
     "output_type": "stream",
     "text": [
      "None\n"
     ]
    }
   ],
   "source": [
    "print(p) #by default None value is retruning"
   ]
  },
  {
   "cell_type": "code",
   "execution_count": 65,
   "id": "677d0632",
   "metadata": {},
   "outputs": [],
   "source": [
    "r = returnfunction(4) # Only storing  value in p"
   ]
  },
  {
   "cell_type": "code",
   "execution_count": 66,
   "id": "827713f5",
   "metadata": {},
   "outputs": [
    {
     "name": "stdout",
     "output_type": "stream",
     "text": [
      "None\n"
     ]
    },
    {
     "data": {
      "text/plain": [
       "NoneType"
      ]
     },
     "execution_count": 66,
     "metadata": {},
     "output_type": "execute_result"
    }
   ],
   "source": [
    "print(p)\n",
    "type(p)"
   ]
  },
  {
   "cell_type": "code",
   "execution_count": 67,
   "id": "50421923",
   "metadata": {},
   "outputs": [
    {
     "data": {
      "text/plain": [
       "int"
      ]
     },
     "execution_count": 67,
     "metadata": {},
     "output_type": "execute_result"
    }
   ],
   "source": [
    "type(r)"
   ]
  },
  {
   "cell_type": "markdown",
   "id": "3b521ba8",
   "metadata": {},
   "source": [
    "# Lambda Function"
   ]
  },
  {
   "cell_type": "markdown",
   "id": "6abea124",
   "metadata": {},
   "source": [
    "* A lambda function is a small anonymous function (anonymous means koi naam nahi hai)\n",
    "* A lambda function can take any number of arguments\n",
    "* but can only have one expression"
   ]
  },
  {
   "cell_type": "code",
   "execution_count": 71,
   "id": "46ca4472",
   "metadata": {},
   "outputs": [],
   "source": [
    "def sumoftwo(a):\n",
    "    return a+a"
   ]
  },
  {
   "cell_type": "code",
   "execution_count": 72,
   "id": "97f9db4f",
   "metadata": {},
   "outputs": [
    {
     "data": {
      "text/plain": [
       "4"
      ]
     },
     "execution_count": 72,
     "metadata": {},
     "output_type": "execute_result"
    }
   ],
   "source": [
    "sumoftwo(2)"
   ]
  },
  {
   "cell_type": "code",
   "execution_count": 73,
   "id": "e8f4739f",
   "metadata": {},
   "outputs": [
    {
     "name": "stdout",
     "output_type": "stream",
     "text": [
      "20\n"
     ]
    }
   ],
   "source": [
    "x = lambda y: y+10\n",
    "print(x(10))"
   ]
  },
  {
   "cell_type": "code",
   "execution_count": 74,
   "id": "40a634d7",
   "metadata": {},
   "outputs": [
    {
     "name": "stdout",
     "output_type": "stream",
     "text": [
      "100\n"
     ]
    }
   ],
   "source": [
    "Square = lambda a: a*a\n",
    "print(Square(10))"
   ]
  },
  {
   "cell_type": "code",
   "execution_count": 75,
   "id": "332c1e2a",
   "metadata": {},
   "outputs": [
    {
     "name": "stdout",
     "output_type": "stream",
     "text": [
      "200\n"
     ]
    }
   ],
   "source": [
    "multiply = lambda a,b : a*b\n",
    "print(multiply(10,20))"
   ]
  },
  {
   "cell_type": "code",
   "execution_count": 76,
   "id": "f65c87f5",
   "metadata": {},
   "outputs": [
    {
     "name": "stdout",
     "output_type": "stream",
     "text": [
      "6\n"
     ]
    }
   ],
   "source": [
    "Sum = lambda a,b,c: a+b+c\n",
    "print(Sum(1,2,3))"
   ]
  },
  {
   "cell_type": "markdown",
   "id": "ab5feac3",
   "metadata": {},
   "source": [
    "**Why Use lambda Function**\n",
    "* The power of lambda is better shown when you use them as anonymous\n",
    "* Function inside another function\n",
    "* Say you have a function definition that one argument, and that argument \n",
    "* Will be multiplied with an unknown number"
   ]
  },
  {
   "cell_type": "code",
   "execution_count": 77,
   "id": "e1c1d9d5",
   "metadata": {},
   "outputs": [],
   "source": [
    "def myfunc(n):\n",
    "    return lambda a: a*n"
   ]
  },
  {
   "cell_type": "code",
   "execution_count": 78,
   "id": "b17190bd",
   "metadata": {},
   "outputs": [],
   "source": [
    "mydoubler = myfunc(3)"
   ]
  },
  {
   "cell_type": "code",
   "execution_count": 79,
   "id": "42e4d191",
   "metadata": {},
   "outputs": [
    {
     "name": "stdout",
     "output_type": "stream",
     "text": [
      "12\n"
     ]
    }
   ],
   "source": [
    "print(mydoubler(4))"
   ]
  },
  {
   "cell_type": "code",
   "execution_count": 80,
   "id": "acd1a667",
   "metadata": {},
   "outputs": [],
   "source": [
    "def myfunc(n):\n",
    "    return lambda a: a*n"
   ]
  },
  {
   "cell_type": "code",
   "execution_count": 81,
   "id": "eb592dfc",
   "metadata": {},
   "outputs": [],
   "source": [
    "mydoubler = myfunc(3)\n",
    "mytripler = myfunc(4)"
   ]
  },
  {
   "cell_type": "code",
   "execution_count": 82,
   "id": "26877b3b",
   "metadata": {},
   "outputs": [
    {
     "name": "stdout",
     "output_type": "stream",
     "text": [
      "36\n"
     ]
    }
   ],
   "source": [
    "print(mydoubler(12))"
   ]
  },
  {
   "cell_type": "code",
   "execution_count": 83,
   "id": "3cb4a41b",
   "metadata": {},
   "outputs": [
    {
     "name": "stdout",
     "output_type": "stream",
     "text": [
      "48\n"
     ]
    }
   ],
   "source": [
    "print(mytripler(12))"
   ]
  },
  {
   "cell_type": "code",
   "execution_count": null,
   "id": "4faf57eb",
   "metadata": {},
   "outputs": [],
   "source": [
    " "
   ]
  }
 ],
 "metadata": {
  "kernelspec": {
   "display_name": "Python 3 (ipykernel)",
   "language": "python",
   "name": "python3"
  },
  "language_info": {
   "codemirror_mode": {
    "name": "ipython",
    "version": 3
   },
   "file_extension": ".py",
   "mimetype": "text/x-python",
   "name": "python",
   "nbconvert_exporter": "python",
   "pygments_lexer": "ipython3",
   "version": "3.8.0"
  }
 },
 "nbformat": 4,
 "nbformat_minor": 5
}
