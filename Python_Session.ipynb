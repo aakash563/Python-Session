{
 "cells": [
  {
   "cell_type": "markdown",
   "id": "780e68b3",
   "metadata": {},
   "source": [
    "# Python is one of popular interpreted programming language in the world\n",
    "* Not compiler"
   ]
  },
  {
   "cell_type": "code",
   "execution_count": null,
   "id": "21964345",
   "metadata": {},
   "outputs": [],
   "source": [
    "print('Hi, Welcome to python session')"
   ]
  },
  {
   "cell_type": "code",
   "execution_count": null,
   "id": "34f88cc6",
   "metadata": {},
   "outputs": [],
   "source": [
    "print(\"Hi, Welcome to python session\")"
   ]
  },
  {
   "cell_type": "code",
   "execution_count": null,
   "id": "d5ad6191",
   "metadata": {},
   "outputs": [],
   "source": [
    "print('''This is String for multi lines\n",
    "where you can write \n",
    "more than one lines using single comma three times''')"
   ]
  },
  {
   "cell_type": "code",
   "execution_count": null,
   "id": "57ddb1d6",
   "metadata": {},
   "outputs": [],
   "source": [
    "print(\"\"\"This is String for multi lines\n",
    "where you can write \n",
    "more than one lines using single comma three times\"\"\")"
   ]
  },
  {
   "cell_type": "code",
   "execution_count": null,
   "id": "ae543de6",
   "metadata": {},
   "outputs": [],
   "source": [
    "# But remember this is also use for multiple lines comment as well as for one line\n",
    "'''Multiple lines\n",
    "commnets\n",
    "here...'''\n",
    "\"\"\"Multple lines\n",
    "comments\n",
    "here!\"\"\""
   ]
  },
  {
   "cell_type": "markdown",
   "id": "e983958d",
   "metadata": {},
   "source": [
    "# Python Data Types\n",
    "* Immutable : In which you cannot change data after the declaration\n",
    "    * Numbers\n",
    "    * Stings\n",
    "    * Tuples\n",
    "* Mutable : In which you can change data after the declaration\n",
    "    * List\n",
    "    * Dictionaries\n",
    "    * Sets"
   ]
  },
  {
   "cell_type": "markdown",
   "id": "21cfaa45",
   "metadata": {},
   "source": [
    "# What is function\n",
    "    * Function is the block of code to do some specific work like add two number etc\n",
    "* Internal Function(Provided by python)\n",
    "* External Function\n"
   ]
  },
  {
   "cell_type": "markdown",
   "id": "27f8d703",
   "metadata": {},
   "source": [
    "* Internal Function\n",
    "    * int()\n",
    "    * string()\n",
    "    * upper()\n",
    "    * isalpha(),...etc"
   ]
  },
  {
   "cell_type": "markdown",
   "id": "3f6a9d37",
   "metadata": {},
   "source": [
    "# Datatypes in Python\n",
    "* Immutable means: (cannnot change after declaration..)\n",
    "* Number(integer, float/double, complex)\n"
   ]
  },
  {
   "cell_type": "code",
   "execution_count": null,
   "id": "c5e22a59",
   "metadata": {},
   "outputs": [],
   "source": [
    "a = 2\n",
    "print(\"Memory Address of a is: {}\".format(id(a)))\n",
    "\n",
    "a = 3 #(Index number changing)\n",
    "print(\"Memory Address of a is: {}\".format(id(a))) # memory address change"
   ]
  },
  {
   "cell_type": "markdown",
   "id": "e0facb38",
   "metadata": {},
   "source": [
    "# # Number"
   ]
  },
  {
   "cell_type": "code",
   "execution_count": null,
   "id": "003b2a8f",
   "metadata": {},
   "outputs": [],
   "source": [
    "a = 1;\n",
    "print(a)\n",
    "b = 2.52;\n",
    "print(b)\n",
    "c = 2+5j;\n",
    "print(c)"
   ]
  },
  {
   "cell_type": "markdown",
   "id": "d7e122e9",
   "metadata": {},
   "source": [
    "# #String"
   ]
  },
  {
   "cell_type": "code",
   "execution_count": null,
   "id": "d0e80612",
   "metadata": {},
   "outputs": [],
   "source": [
    "s1 = 'Aakash'\n",
    "s2 = \"Singh\"\n",
    "# Cont\n",
    "print(s1 + s2) # + sign use for concatination"
   ]
  },
  {
   "cell_type": "code",
   "execution_count": null,
   "id": "f7c6241a",
   "metadata": {},
   "outputs": [],
   "source": [
    "# Rep\n",
    "print(s1*3) # repeat"
   ]
  },
  {
   "cell_type": "code",
   "execution_count": null,
   "id": "df897a8a",
   "metadata": {},
   "outputs": [],
   "source": [
    "#slice\n",
    "print(s1[0:4]) # exclude 4"
   ]
  },
  {
   "cell_type": "code",
   "execution_count": null,
   "id": "fc87bc6d",
   "metadata": {},
   "outputs": [],
   "source": [
    "# index\n",
    "print(s1[-1:]+s1[1])"
   ]
  },
  {
   "cell_type": "code",
   "execution_count": null,
   "id": "33d42eec",
   "metadata": {},
   "outputs": [],
   "source": [
    "# find\n",
    "print(s1.find('h')) # Give index"
   ]
  },
  {
   "cell_type": "code",
   "execution_count": null,
   "id": "d9cfcc17",
   "metadata": {},
   "outputs": [],
   "source": [
    "# replace\n",
    "print(s1.replace('h','z')) # Replace h with z(Return a copy with all occurrences of substring old replaced by new.)"
   ]
  },
  {
   "cell_type": "code",
   "execution_count": null,
   "id": "02c964d9",
   "metadata": {},
   "outputs": [],
   "source": [
    "# split\n",
    "print(s1.split(',')) # Inclose in single quot"
   ]
  },
  {
   "cell_type": "code",
   "execution_count": null,
   "id": "1bfb79cc",
   "metadata": {},
   "outputs": [],
   "source": [
    "# Count\n",
    "print(s1.count('a',0,4)) # upto 4"
   ]
  },
  {
   "cell_type": "code",
   "execution_count": null,
   "id": "306d540d",
   "metadata": {},
   "outputs": [],
   "source": [
    "# upper\n",
    "print(s1.upper()) # Upper case(Captilize)"
   ]
  },
  {
   "cell_type": "code",
   "execution_count": null,
   "id": "3dae40c0",
   "metadata": {},
   "outputs": [],
   "source": [
    "# max\n",
    "print(max(s1)) # Last in alpha"
   ]
  },
  {
   "cell_type": "code",
   "execution_count": null,
   "id": "aededd0b",
   "metadata": {},
   "outputs": [],
   "source": [
    "print(min(s1)) # First in alphabetical"
   ]
  },
  {
   "cell_type": "code",
   "execution_count": null,
   "id": "92f3f385",
   "metadata": {},
   "outputs": [],
   "source": [
    "# isalpha\n",
    "print(s1.isalpha())"
   ]
  },
  {
   "cell_type": "markdown",
   "id": "ce612876",
   "metadata": {},
   "source": [
    "# Space left, Right, or Both Side"
   ]
  },
  {
   "cell_type": "code",
   "execution_count": null,
   "id": "652b86ca",
   "metadata": {},
   "outputs": [],
   "source": [
    "s2 = \" Aakash\"\n",
    "s3 = 'Singh '\n",
    "s4 = \" Kumar \"\n",
    "print(s2)"
   ]
  },
  {
   "cell_type": "code",
   "execution_count": null,
   "id": "d42e1eeb",
   "metadata": {},
   "outputs": [],
   "source": [
    "print(s2)\n",
    "print(s2.lstrip()) # Left space remove"
   ]
  },
  {
   "cell_type": "code",
   "execution_count": null,
   "id": "b0311fd7",
   "metadata": {},
   "outputs": [],
   "source": [
    "print(s3)\n",
    "print(s3.rsplit()) # Right Space remove"
   ]
  },
  {
   "cell_type": "code",
   "execution_count": null,
   "id": "f925672e",
   "metadata": {},
   "outputs": [],
   "source": [
    "print(s4)\n",
    "print(s4.strip()) # Both Side space remove"
   ]
  },
  {
   "cell_type": "markdown",
   "id": "ef9f482d",
   "metadata": {},
   "source": [
    "# Tuples"
   ]
  },
  {
   "cell_type": "code",
   "execution_count": null,
   "id": "9e0e54ca",
   "metadata": {},
   "outputs": [],
   "source": [
    "tup = (1,1.25,3j,'a',\"ABC\") # small bracket\n",
    "print(tup)"
   ]
  },
  {
   "cell_type": "code",
   "execution_count": null,
   "id": "96f769a0",
   "metadata": {},
   "outputs": [],
   "source": [
    "tup1 = (1, 1.25, 3j, 'a', \"ABC\", (1,2,3,4,\"asdf\")) # Nested tuple\n",
    "print(tup1)"
   ]
  },
  {
   "cell_type": "code",
   "execution_count": null,
   "id": "c8d6bee5",
   "metadata": {},
   "outputs": [],
   "source": [
    "print(tup + (11,11)) # concatenation"
   ]
  },
  {
   "cell_type": "code",
   "execution_count": null,
   "id": "318571cc",
   "metadata": {},
   "outputs": [],
   "source": [
    "print(tup*2) # repetion property"
   ]
  },
  {
   "cell_type": "code",
   "execution_count": null,
   "id": "f9ad0e81",
   "metadata": {},
   "outputs": [],
   "source": [
    "print(tup[1:2]) # Slice (2 excluded)"
   ]
  },
  {
   "cell_type": "code",
   "execution_count": null,
   "id": "ee4fb72b",
   "metadata": {},
   "outputs": [],
   "source": [
    "print(tup[2:2]) # Slice (2 excluded)"
   ]
  },
  {
   "cell_type": "code",
   "execution_count": null,
   "id": "c32ef6d3",
   "metadata": {},
   "outputs": [],
   "source": [
    "print(tup[0]) "
   ]
  },
  {
   "cell_type": "code",
   "execution_count": null,
   "id": "a899d28d",
   "metadata": {},
   "outputs": [],
   "source": [
    "tup[0] = 4"
   ]
  },
  {
   "cell_type": "markdown",
   "id": "7be0fdbb",
   "metadata": {},
   "source": [
    "# Datatypes in Python\n",
    "## Mutable means(Can change after declaration...)"
   ]
  },
  {
   "cell_type": "markdown",
   "id": "1706bd72",
   "metadata": {},
   "source": [
    "# List, Dict, Set"
   ]
  },
  {
   "cell_type": "code",
   "execution_count": null,
   "id": "1f240b89",
   "metadata": {},
   "outputs": [],
   "source": [
    "li = [1,1.25,'asdf','ss',5j] # Initialize using Squre bracket or (list key word)\n",
    "print(li)\n",
    "Dict = {1:\"abc\",2:\"DBA\",3:1235} # Initialize using {} (key,values pairs) or dict key word\n",
    "print(Dict)\n",
    "Set = {1,2,3,4,5} # Initialize using {} or set key words\n",
    "print(Set)"
   ]
  },
  {
   "cell_type": "markdown",
   "id": "65159daa",
   "metadata": {},
   "source": [
    "# List"
   ]
  },
  {
   "cell_type": "code",
   "execution_count": null,
   "id": "3e84eb6a",
   "metadata": {},
   "outputs": [],
   "source": [
    "listt = [1,1.25,\"asdf\",'ss',5j]\n",
    "print(listt)"
   ]
  },
  {
   "cell_type": "code",
   "execution_count": null,
   "id": "e9f750aa",
   "metadata": {},
   "outputs": [],
   "source": [
    "listt[0] = \"Asia\" # change (mutable)\n",
    "print(listt)"
   ]
  },
  {
   "cell_type": "code",
   "execution_count": null,
   "id": "7638275b",
   "metadata": {},
   "outputs": [],
   "source": [
    "print(listt)\n",
    "print(listt + [\"Aakash\"]) # Contactinate"
   ]
  },
  {
   "cell_type": "code",
   "execution_count": null,
   "id": "9df4b233",
   "metadata": {},
   "outputs": [],
   "source": [
    "print(listt)\n",
    "print(listt*2) # Repeat 2 times"
   ]
  },
  {
   "cell_type": "code",
   "execution_count": null,
   "id": "7b690ff0",
   "metadata": {},
   "outputs": [],
   "source": [
    "print(listt)\n",
    "print(listt[1:3]) # Slice"
   ]
  },
  {
   "cell_type": "code",
   "execution_count": null,
   "id": "dd3a86c3",
   "metadata": {},
   "outputs": [],
   "source": [
    "print(listt)\n",
    "print(listt[0]) "
   ]
  },
  {
   "cell_type": "code",
   "execution_count": null,
   "id": "e27b6722",
   "metadata": {},
   "outputs": [],
   "source": [
    "print(listt)\n",
    "print(listt.append(\"Singh\")) # add one value\n"
   ]
  },
  {
   "cell_type": "code",
   "execution_count": null,
   "id": "aeb4285a",
   "metadata": {},
   "outputs": [],
   "source": [
    "print(listt)"
   ]
  },
  {
   "cell_type": "code",
   "execution_count": null,
   "id": "1f729e8c",
   "metadata": {},
   "outputs": [],
   "source": [
    "print(listt.extend([\"sss\",'d','asd'])) # more than one value add"
   ]
  },
  {
   "cell_type": "code",
   "execution_count": null,
   "id": "cbae8585",
   "metadata": {},
   "outputs": [],
   "source": [
    "print(listt)"
   ]
  },
  {
   "cell_type": "code",
   "execution_count": null,
   "id": "71ee1371",
   "metadata": {},
   "outputs": [],
   "source": [
    "print(listt.insert(0,\"Hdfc\")) # Add values at specific position"
   ]
  },
  {
   "cell_type": "code",
   "execution_count": null,
   "id": "ddc7fa74",
   "metadata": {},
   "outputs": [],
   "source": [
    "print(listt)"
   ]
  },
  {
   "cell_type": "code",
   "execution_count": null,
   "id": "2a87284f",
   "metadata": {},
   "outputs": [],
   "source": [
    "print(listt.pop()) # remove last element"
   ]
  },
  {
   "cell_type": "code",
   "execution_count": null,
   "id": "8ce35e5b",
   "metadata": {},
   "outputs": [],
   "source": [
    "print(listt)"
   ]
  },
  {
   "cell_type": "code",
   "execution_count": null,
   "id": "1d1482f0",
   "metadata": {},
   "outputs": [],
   "source": [
    "nested_list = [1,1.25,\"asdf\",'ss',5j,[1,2,3,4,\"asdf\"]]\n",
    "print(nested_list)"
   ]
  },
  {
   "cell_type": "markdown",
   "id": "3684f76c",
   "metadata": {},
   "source": [
    "# Dictionary"
   ]
  },
  {
   "cell_type": "code",
   "execution_count": null,
   "id": "46e6b095",
   "metadata": {},
   "outputs": [],
   "source": [
    "Dict1 = {} # Initialize dictionary\n",
    "Dict = {1:\"Hdfc\",2:\"Life\",\"Insurance\":\"Yes\"} # Keys-values\n",
    "print(Dict)"
   ]
  },
  {
   "cell_type": "code",
   "execution_count": null,
   "id": "bc443fca",
   "metadata": {},
   "outputs": [],
   "source": [
    "print(Dict[1]) # Access key No 1"
   ]
  },
  {
   "cell_type": "code",
   "execution_count": null,
   "id": "bfc92ade",
   "metadata": {},
   "outputs": [],
   "source": [
    "print(len(Dict)) # length key Dict"
   ]
  },
  {
   "cell_type": "code",
   "execution_count": null,
   "id": "7e0e3d50",
   "metadata": {},
   "outputs": [],
   "source": [
    "print(Dict.keys()) # print all keys"
   ]
  },
  {
   "cell_type": "code",
   "execution_count": null,
   "id": "20e6f19e",
   "metadata": {},
   "outputs": [],
   "source": [
    "print(Dict.values()) # print all values"
   ]
  },
  {
   "cell_type": "code",
   "execution_count": null,
   "id": "dde9a8b2",
   "metadata": {},
   "outputs": [],
   "source": [
    "print(Dict.items()) # print all items"
   ]
  },
  {
   "cell_type": "code",
   "execution_count": null,
   "id": "80d4c1fe",
   "metadata": {},
   "outputs": [],
   "source": [
    "print(Dict.get(1)) # using get method"
   ]
  },
  {
   "cell_type": "code",
   "execution_count": null,
   "id": "5a5813ef",
   "metadata": {},
   "outputs": [],
   "source": [
    "print(Dict.update({2:\"Bank\"})) # update values using key\n",
    "print(Dict)"
   ]
  },
  {
   "cell_type": "code",
   "execution_count": null,
   "id": "dafb0626",
   "metadata": {},
   "outputs": [],
   "source": [
    "print(Dict.pop(2)) # remove using keu"
   ]
  },
  {
   "cell_type": "code",
   "execution_count": null,
   "id": "f4be0110",
   "metadata": {},
   "outputs": [],
   "source": [
    "print(Dict)"
   ]
  },
  {
   "cell_type": "markdown",
   "id": "ff827d82",
   "metadata": {},
   "source": [
    "# Set"
   ]
  },
  {
   "cell_type": "code",
   "execution_count": null,
   "id": "5eb486f1",
   "metadata": {},
   "outputs": [],
   "source": [
    "s = {1,2,3,4,5,5,5,5} #repeatation not allowed \n",
    "print(s)"
   ]
  },
  {
   "cell_type": "code",
   "execution_count": null,
   "id": "5a2cbe8c",
   "metadata": {},
   "outputs": [],
   "source": [
    "S1 = {1,2,3}\n",
    "S2 = {1,2,'b'}"
   ]
  },
  {
   "cell_type": "code",
   "execution_count": null,
   "id": "ff7e8b4a",
   "metadata": {},
   "outputs": [],
   "source": [
    "print(S1 | S2) # Union"
   ]
  },
  {
   "cell_type": "code",
   "execution_count": null,
   "id": "5cea0539",
   "metadata": {},
   "outputs": [],
   "source": [
    "print(S1 & S2) # Intersection"
   ]
  },
  {
   "cell_type": "code",
   "execution_count": null,
   "id": "5796245e",
   "metadata": {},
   "outputs": [],
   "source": [
    "print(S1  - S2) # Minus"
   ]
  },
  {
   "cell_type": "markdown",
   "id": "a7fc89b1",
   "metadata": {},
   "source": [
    "# If Else (Family) in Python"
   ]
  },
  {
   "cell_type": "code",
   "execution_count": null,
   "id": "41ae5ffc",
   "metadata": {},
   "outputs": [],
   "source": [
    "# If Else used for Condition\n",
    "a = 1\n",
    "if (a>=1):\n",
    "    print(\"The value of a is 1 or greater \",str(a))"
   ]
  },
  {
   "cell_type": "code",
   "execution_count": null,
   "id": "d0f613d0",
   "metadata": {},
   "outputs": [],
   "source": [
    "# If Else used for Condition\n",
    "a = 1\n",
    "if (a>=1):\n",
    "    print(\"The value of a is 1 or greater \",str(a))\n",
    "else:\n",
    "    print(\"Else body of if!\")"
   ]
  },
  {
   "cell_type": "code",
   "execution_count": null,
   "id": "49d823a0",
   "metadata": {},
   "outputs": [],
   "source": [
    "# If Else used for Condition\n",
    "a = 0\n",
    "if (a>=1):\n",
    "    print(\"The value of a is 1 or greater \",str(a))\n",
    "else:\n",
    "    print(\"Else body of if!\")"
   ]
  },
  {
   "cell_type": "code",
   "execution_count": null,
   "id": "67bda81b",
   "metadata": {},
   "outputs": [],
   "source": [
    "# Nested If - Else\n",
    "a = 1\n",
    "b = 2\n",
    "if (a>=1):\n",
    "    print(\"The  value of a is 1 or greater  \"+str(a))\n",
    "    if (b==2):\n",
    "        print(\"Nested if!\")\n",
    "    else:\n",
    "        print(\"Fist If Body\")\n",
    "else:\n",
    "    print(\"First if else body\")"
   ]
  },
  {
   "cell_type": "code",
   "execution_count": null,
   "id": "6eba1e8e",
   "metadata": {},
   "outputs": [],
   "source": [
    "# if-else-if\n",
    "a = 10\n",
    "b = 20\n",
    "c = 30\n",
    "if(a>10):\n",
    "    print(\"Greater\")\n",
    "elif(b>=20):\n",
    "    print(\"20 Grater or equal\")\n",
    "elif(c>30):\n",
    "    print(\"Greater\")"
   ]
  },
  {
   "cell_type": "code",
   "execution_count": null,
   "id": "4687db12",
   "metadata": {},
   "outputs": [],
   "source": [
    "# if-else-if-else\n",
    "a = 1\n",
    "b = 2\n",
    "c = 3\n",
    "if(a>10):\n",
    "    print(\"Greater\")\n",
    "elif(b>=20):\n",
    "    print(\"20 Grater or equal\")\n",
    "elif(c>30):\n",
    "    print(\"Greater\")\n",
    "else:\n",
    "    print(\"Default\")"
   ]
  },
  {
   "cell_type": "markdown",
   "id": "ca5b4afe",
   "metadata": {},
   "source": [
    "# Loops(For,While),jump Statement in Python"
   ]
  },
  {
   "cell_type": "markdown",
   "id": "2487efb8",
   "metadata": {},
   "source": [
    "## For Loop"
   ]
  },
  {
   "cell_type": "code",
   "execution_count": null,
   "id": "628445d4",
   "metadata": {},
   "outputs": [],
   "source": [
    "for a in range(10): # 10 excluded\n",
    "    print(a)"
   ]
  },
  {
   "cell_type": "code",
   "execution_count": null,
   "id": "54816d09",
   "metadata": {},
   "outputs": [],
   "source": [
    "# Range\n",
    "print(range(10))\n",
    "list(range(10))"
   ]
  },
  {
   "cell_type": "code",
   "execution_count": null,
   "id": "734ae704",
   "metadata": {},
   "outputs": [],
   "source": [
    "for a in range(1,10,1):\n",
    "    print(a)"
   ]
  },
  {
   "cell_type": "code",
   "execution_count": null,
   "id": "69e37854",
   "metadata": {},
   "outputs": [],
   "source": [
    "for a in range(1,10,2):\n",
    "    print(a)"
   ]
  },
  {
   "cell_type": "code",
   "execution_count": null,
   "id": "a9834549",
   "metadata": {},
   "outputs": [],
   "source": [
    "# Even Number\n",
    "for a in range(2,11,2):\n",
    "    print(a)"
   ]
  },
  {
   "cell_type": "code",
   "execution_count": null,
   "id": "df0758fe",
   "metadata": {},
   "outputs": [],
   "source": [
    "# Odd Number\n",
    "for a in range(1,11,2):\n",
    "    print(a)"
   ]
  },
  {
   "cell_type": "code",
   "execution_count": null,
   "id": "d2fb7bc2",
   "metadata": {},
   "outputs": [],
   "source": [
    "# Nested Loop\n",
    "for a in range(1,11,2):\n",
    "    print(a)\n",
    "    for b in range(11,20,2): # Nested Loop\n",
    "        print(b)"
   ]
  },
  {
   "cell_type": "markdown",
   "id": "2d0a0d2c",
   "metadata": {},
   "source": [
    "## While loop"
   ]
  },
  {
   "cell_type": "code",
   "execution_count": null,
   "id": "eb439836",
   "metadata": {},
   "outputs": [],
   "source": [
    "z = 0\n",
    "while(z<=10):\n",
    "    print(z)\n",
    "    z+=1"
   ]
  },
  {
   "cell_type": "code",
   "execution_count": null,
   "id": "c7e462b5",
   "metadata": {},
   "outputs": [],
   "source": [
    "z = 0\n",
    "while(z<=10):\n",
    "    print(z)\n",
    "    zz = 0\n",
    "    while zz<=10:\n",
    "        print(zz)\n",
    "        zz+=1\n",
    "    z+=1"
   ]
  },
  {
   "cell_type": "markdown",
   "id": "85b9b570",
   "metadata": {},
   "source": [
    "## Jump\n",
    "### Continue, break, pass"
   ]
  },
  {
   "cell_type": "code",
   "execution_count": null,
   "id": "8809d08f",
   "metadata": {},
   "outputs": [],
   "source": [
    "for i in range(1,11):\n",
    "    if i==1:\n",
    "        pass # Steps Pass forward\n",
    "    if i==5:\n",
    "        continue # Skip 5 or ignore 5\n",
    "    if i==8:\n",
    "        break # Break loop\n",
    "    print(\"This is iteration no. \",i)"
   ]
  },
  {
   "cell_type": "code",
   "execution_count": null,
   "id": "3f7500b5",
   "metadata": {},
   "outputs": [],
   "source": [
    "for i in range(1,11):\n",
    "    if i==1:\n",
    "        pass # Steps Pass forward\n",
    "    print(\"This is iteration no. \",i)\n",
    "    "
   ]
  },
  {
   "cell_type": "code",
   "execution_count": null,
   "id": "fc0680d4",
   "metadata": {},
   "outputs": [],
   "source": [
    "for i in range(1,11):\n",
    "    if i==1:\n",
    "        continue # Skip 5 or ignore 1\n",
    "    print(\"This is iteration no. \",i)\n",
    "    "
   ]
  },
  {
   "cell_type": "code",
   "execution_count": null,
   "id": "17aa8be8",
   "metadata": {},
   "outputs": [],
   "source": [
    "for i in range(1,11):\n",
    "    if i==4:\n",
    "        break # break loop when i==4\n",
    "    print(\"This is iteration no. \",i)\n",
    "    "
   ]
  },
  {
   "cell_type": "markdown",
   "id": "e895cd6e",
   "metadata": {},
   "source": [
    "# Python Operators (Arithmetic,Comparison and Assignment Operator)"
   ]
  },
  {
   "cell_type": "markdown",
   "id": "0c23b9d3",
   "metadata": {},
   "source": [
    "## Arithematic Operation in Python"
   ]
  },
  {
   "cell_type": "code",
   "execution_count": null,
   "id": "1e46b0bb",
   "metadata": {},
   "outputs": [],
   "source": [
    "a = 7\n",
    "b = 3\n",
    "print(a+b) # Add\n",
    "print(a-b) # Subtract\n",
    "print(a*b) # Multiply\n",
    "print(a/b) # Divide\n",
    "print(a%b) # mod\n",
    "print(a**b) # power\n",
    "print(a//b) # Flor division or round"
   ]
  },
  {
   "cell_type": "markdown",
   "id": "1e79fa38",
   "metadata": {},
   "source": [
    "## Comparison Operators"
   ]
  },
  {
   "cell_type": "code",
   "execution_count": null,
   "id": "14291cab",
   "metadata": {},
   "outputs": [],
   "source": [
    "a = 7\n",
    "b = 3\n",
    "print(a>b) # Greater\n",
    "print(a<b) # Less\n",
    "print(a>=b) # Greater or equal\n",
    "print(a<=b) #  equal or less\n",
    "print(a!=b) # Not equal\n",
    "print(a==b) # equal\n"
   ]
  },
  {
   "cell_type": "markdown",
   "id": "153bcd7b",
   "metadata": {},
   "source": [
    "## Assignment Operators"
   ]
  },
  {
   "cell_type": "code",
   "execution_count": null,
   "id": "cae4fac8",
   "metadata": {},
   "outputs": [],
   "source": [
    "a = 1\n",
    "print(a)\n",
    "a+=2 # a = a + 2\n",
    "print(a)"
   ]
  },
  {
   "cell_type": "code",
   "execution_count": null,
   "id": "120ebaca",
   "metadata": {},
   "outputs": [],
   "source": [
    "a = 2\n",
    "print(a)\n",
    "a*=3 # a = a * 3\n",
    "print(a)"
   ]
  },
  {
   "cell_type": "code",
   "execution_count": null,
   "id": "769e0a76",
   "metadata": {},
   "outputs": [],
   "source": [
    "a = 2\n",
    "print(a)\n",
    "a-=3 # a = a - 3\n",
    "print(a)"
   ]
  },
  {
   "cell_type": "markdown",
   "id": "b34b7885",
   "metadata": {},
   "source": [
    "## Logical Operator in Python (and, or, not)"
   ]
  },
  {
   "cell_type": "code",
   "execution_count": null,
   "id": "67d92951",
   "metadata": {},
   "outputs": [],
   "source": [
    "a = True\n",
    "b = False\n",
    "print(a and b) # both true"
   ]
  },
  {
   "cell_type": "code",
   "execution_count": null,
   "id": "1160a492",
   "metadata": {},
   "outputs": [],
   "source": [
    "print(a or b) # Only one true"
   ]
  },
  {
   "cell_type": "code",
   "execution_count": null,
   "id": "93bf0f1b",
   "metadata": {},
   "outputs": [],
   "source": [
    "print(not b)"
   ]
  },
  {
   "cell_type": "code",
   "execution_count": null,
   "id": "c9c103c4",
   "metadata": {},
   "outputs": [],
   "source": [
    "a = 2\n",
    "b = 5\n",
    "c = 50\n",
    "if ((a)>=5 and b>=b) or (c>=49):\n",
    "    print(\"True\")\n",
    "else:\n",
    "    print(\"Not True\")"
   ]
  },
  {
   "cell_type": "markdown",
   "id": "a7572f97",
   "metadata": {},
   "source": [
    "## Membership Operator(in, not in)"
   ]
  },
  {
   "cell_type": "code",
   "execution_count": null,
   "id": "f57ca8b1",
   "metadata": {},
   "outputs": [],
   "source": [
    "var = ['a',23,25.12,'Hdfc']\n",
    "print('a' in var)"
   ]
  },
  {
   "cell_type": "code",
   "execution_count": null,
   "id": "a60c1642",
   "metadata": {},
   "outputs": [],
   "source": [
    "print('b' not in var)"
   ]
  },
  {
   "cell_type": "markdown",
   "id": "6ec70391",
   "metadata": {},
   "source": [
    "## Identity Operator (is, is not)"
   ]
  },
  {
   "cell_type": "code",
   "execution_count": null,
   "id": "0eb3a5c4",
   "metadata": {},
   "outputs": [],
   "source": [
    "x = 5\n",
    "y = 5\n",
    "z = 4\n",
    "print(x is y)"
   ]
  },
  {
   "cell_type": "code",
   "execution_count": null,
   "id": "f8ce118e",
   "metadata": {},
   "outputs": [],
   "source": [
    "print(x is not y)"
   ]
  },
  {
   "cell_type": "code",
   "execution_count": null,
   "id": "7cbbcfb9",
   "metadata": {},
   "outputs": [],
   "source": [
    "print(x is not z)"
   ]
  },
  {
   "cell_type": "markdown",
   "id": "235bd698",
   "metadata": {},
   "source": [
    "# File Handling in Python"
   ]
  },
  {
   "cell_type": "markdown",
   "id": "19c459b2",
   "metadata": {},
   "source": [
    "**File Handling**\n",
    "* File Handling is an important part of any web application/Development\n",
    "* Python has several functions for creating, reading, updating and deleting files\n"
   ]
  },
  {
   "cell_type": "markdown",
   "id": "3bdd4fec",
   "metadata": {},
   "source": [
    "**File handling**\n",
    "* The key function for working with files in  python is the open() function.\n",
    "* The open() function takes two parameters; filename and mode"
   ]
  },
  {
   "cell_type": "markdown",
   "id": "44bae162",
   "metadata": {},
   "source": [
    "**There are four different methods (modes) for opening a file**\n",
    "* \"a\" - Append - Open a file for appending, creates the file if it does not exist\n",
    "* \"w\" - Write - Opens a file for writing, creates the file if it does not exist\n",
    "* \"r\" - Read - Default value. opens a file for reading, error, if the file does not exist\n",
    "* also, r+ both reading and writing"
   ]
  },
  {
   "cell_type": "markdown",
   "id": "54fc7bb2",
   "metadata": {},
   "source": [
    "* \"x\" - Create - Creates the specified file, returns an error if the file exists\n",
    "* In addition you can specify if the file should be handled as binary or text mode\n"
   ]
  },
  {
   "cell_type": "markdown",
   "id": "3c705167",
   "metadata": {},
   "source": [
    "* \"t\" - Text - Default value.Text mode\n",
    "* \"b\" - binary - Binary mode (e.g. Images)"
   ]
  },
  {
   "cell_type": "code",
   "execution_count": null,
   "id": "ecb1da62",
   "metadata": {},
   "outputs": [],
   "source": [
    "ls"
   ]
  },
  {
   "cell_type": "code",
   "execution_count": null,
   "id": "6d69bd86",
   "metadata": {},
   "outputs": [],
   "source": [
    "# a ==> append file\n",
    "f = open(\"file1.txt\",\"a\")\n",
    "f.write(\"Now the file has more content67767!\\n\")\n",
    "f.write(\"Now the file has more content234!\\n\")\n",
    "f.write(\"Now the file has more contentqwer!\\n\")\n",
    "f.write(\"Now the file has more contentasdf!\\n\")\n",
    "\n",
    "f.close()"
   ]
  },
  {
   "cell_type": "code",
   "execution_count": null,
   "id": "df62b92d",
   "metadata": {},
   "outputs": [],
   "source": [
    "# Open and read the file after the appeding\n",
    "f = open('file2.txt','r') # file2 not exist\n",
    "print(f.read())"
   ]
  },
  {
   "cell_type": "code",
   "execution_count": null,
   "id": "21eb8b55",
   "metadata": {},
   "outputs": [],
   "source": [
    "# Open and read the file after the appeding\n",
    "f = open('file1.txt','r') # file1  exist\n",
    "print(f.read())"
   ]
  },
  {
   "cell_type": "code",
   "execution_count": null,
   "id": "1f734d79",
   "metadata": {},
   "outputs": [],
   "source": [
    "# Write on the file\n",
    "f = open('file3.txt','w')\n",
    "f.write(\"Woops! I deleted the content\")\n",
    "f.close()"
   ]
  },
  {
   "cell_type": "code",
   "execution_count": null,
   "id": "59175312",
   "metadata": {},
   "outputs": [],
   "source": [
    "# open and read the file after the appending\n",
    "f = open('file3.txt','r')\n",
    "print(f.read())"
   ]
  },
  {
   "cell_type": "code",
   "execution_count": null,
   "id": "5ae54c9f",
   "metadata": {},
   "outputs": [],
   "source": [
    "# \"x\" - Create - Creates the specified file, returns an error if the file exists\n",
    "f = open('file3.txt','x')"
   ]
  },
  {
   "cell_type": "code",
   "execution_count": null,
   "id": "c61dc3bc",
   "metadata": {},
   "outputs": [],
   "source": [
    "# \"x\" - Create - Creates the specified file, returns an error if the file exists\n",
    "f = open('file4.txt','x')"
   ]
  },
  {
   "cell_type": "code",
   "execution_count": null,
   "id": "99c8bf2a",
   "metadata": {},
   "outputs": [],
   "source": [
    "f = open('file1.txt','r')\n",
    "print(f.read())"
   ]
  },
  {
   "cell_type": "code",
   "execution_count": null,
   "id": "ca05ee13",
   "metadata": {},
   "outputs": [],
   "source": [
    "f = open('file1.txt','r')\n",
    "print(f.read(5))"
   ]
  },
  {
   "cell_type": "code",
   "execution_count": null,
   "id": "d8c6b466",
   "metadata": {},
   "outputs": [],
   "source": [
    "f = open('file1.txt','r')\n",
    "print(f.readline())"
   ]
  },
  {
   "cell_type": "code",
   "execution_count": null,
   "id": "930cac7b",
   "metadata": {},
   "outputs": [],
   "source": [
    "f = open('file1.txt','r')\n",
    "print(f.readline())\n",
    "print(f.readline())"
   ]
  },
  {
   "cell_type": "code",
   "execution_count": null,
   "id": "287ddbbd",
   "metadata": {},
   "outputs": [],
   "source": [
    "f = open('file1.txt','r')\n",
    "for x in f:\n",
    "    print(x)\n"
   ]
  },
  {
   "cell_type": "code",
   "execution_count": null,
   "id": "2c662e8c",
   "metadata": {},
   "outputs": [],
   "source": [
    "# It is good practics to close the file\n",
    "f = open('file1.txt','r')\n",
    "print(f.readline())\n",
    "f.close()"
   ]
  },
  {
   "cell_type": "code",
   "execution_count": null,
   "id": "37a3b0e3",
   "metadata": {},
   "outputs": [],
   "source": [
    "# to delete the file\n",
    "import os\n",
    "os.remove('file3.txt')"
   ]
  },
  {
   "cell_type": "code",
   "execution_count": null,
   "id": "8e751d89",
   "metadata": {},
   "outputs": [],
   "source": [
    "# To delete the file using if else\n",
    "import os\n",
    "if os.path.exists('file4.txt'):\n",
    "    os.remove('file4.txt')\n",
    "else:\n",
    "    print(\"The file does not exist\")\n",
    "              "
   ]
  },
  {
   "cell_type": "code",
   "execution_count": null,
   "id": "f1e5c042",
   "metadata": {},
   "outputs": [],
   "source": [
    "# create folder \n",
    "os.mkdir('my-folder')\n"
   ]
  },
  {
   "cell_type": "code",
   "execution_count": null,
   "id": "a9309c9c",
   "metadata": {},
   "outputs": [],
   "source": [
    "# To delete folder\n",
    "import os\n",
    "os.rmdir('my-folder')"
   ]
  },
  {
   "cell_type": "markdown",
   "id": "0f83e8c6",
   "metadata": {},
   "source": [
    "# Python Function"
   ]
  },
  {
   "cell_type": "markdown",
   "id": "554f5113",
   "metadata": {},
   "source": [
    "**Function: Block of Code**\n",
    "* For Specific work, write a block of code"
   ]
  },
  {
   "cell_type": "code",
   "execution_count": null,
   "id": "48709837",
   "metadata": {},
   "outputs": [],
   "source": [
    "def Sum(): # Zero parameter/ without parameter\n",
    "    a = 1 # created variable1\n",
    "    b = 2 # created variable2\n",
    "    print(a+b)"
   ]
  },
  {
   "cell_type": "code",
   "execution_count": null,
   "id": "850cf3a9",
   "metadata": {},
   "outputs": [],
   "source": [
    "Sum() # Function call"
   ]
  },
  {
   "cell_type": "markdown",
   "id": "44113463",
   "metadata": {},
   "source": [
    "#### Function with parameter"
   ]
  },
  {
   "cell_type": "code",
   "execution_count": null,
   "id": "091734e8",
   "metadata": {},
   "outputs": [],
   "source": [
    "def sumpara(a,b):\n",
    "    return(a+b)"
   ]
  },
  {
   "cell_type": "code",
   "execution_count": null,
   "id": "5d113448",
   "metadata": {},
   "outputs": [],
   "source": [
    "sumpara(5,5)"
   ]
  },
  {
   "cell_type": "markdown",
   "id": "8a0e9bcd",
   "metadata": {},
   "source": [
    "##### Function inside function"
   ]
  },
  {
   "cell_type": "code",
   "execution_count": null,
   "id": "0d11b5b6",
   "metadata": {},
   "outputs": [],
   "source": [
    "def First():\n",
    "    print(\"First\")\n",
    "    def Second():\n",
    "        print(\"Second\")\n",
    "    Second()"
   ]
  },
  {
   "cell_type": "code",
   "execution_count": null,
   "id": "e0c38c06",
   "metadata": {},
   "outputs": [],
   "source": [
    "First()"
   ]
  },
  {
   "cell_type": "code",
   "execution_count": null,
   "id": "d3ee5a56",
   "metadata": {},
   "outputs": [],
   "source": []
  },
  {
   "cell_type": "code",
   "execution_count": null,
   "id": "bf69f0f1",
   "metadata": {},
   "outputs": [],
   "source": []
  },
  {
   "cell_type": "code",
   "execution_count": null,
   "id": "7f98292d",
   "metadata": {},
   "outputs": [],
   "source": []
  },
  {
   "cell_type": "code",
   "execution_count": null,
   "id": "5214d53f",
   "metadata": {},
   "outputs": [],
   "source": []
  },
  {
   "cell_type": "markdown",
   "id": "a4d17488",
   "metadata": {},
   "source": [
    "# Print vs return in Python"
   ]
  },
  {
   "cell_type": "code",
   "execution_count": null,
   "id": "fa7a4f39",
   "metadata": {},
   "outputs": [],
   "source": [
    "def printfunction(a):\n",
    "    num = a*a\n",
    "    print(num)"
   ]
  },
  {
   "cell_type": "code",
   "execution_count": null,
   "id": "b428965c",
   "metadata": {},
   "outputs": [],
   "source": [
    "printfunction(4)"
   ]
  },
  {
   "cell_type": "code",
   "execution_count": null,
   "id": "b73b04c3",
   "metadata": {},
   "outputs": [],
   "source": [
    "def returnfunction(a):\n",
    "    num = a*a\n",
    "    return num"
   ]
  },
  {
   "cell_type": "code",
   "execution_count": null,
   "id": "88878ae5",
   "metadata": {},
   "outputs": [],
   "source": [
    "returnfunction(4)"
   ]
  },
  {
   "cell_type": "code",
   "execution_count": null,
   "id": "8f2fc29f",
   "metadata": {},
   "outputs": [],
   "source": [
    "# Basic Differnce\n",
    "p = printfunction(4) # only printing the value of and by default None value is retruning"
   ]
  },
  {
   "cell_type": "code",
   "execution_count": null,
   "id": "18dbf9e8",
   "metadata": {},
   "outputs": [],
   "source": [
    "print(p) #by default None value is retruning"
   ]
  },
  {
   "cell_type": "code",
   "execution_count": null,
   "id": "b4e55c48",
   "metadata": {},
   "outputs": [],
   "source": [
    "r = returnfunction(4) # Only storing  value in p"
   ]
  },
  {
   "cell_type": "code",
   "execution_count": null,
   "id": "2c0ec2be",
   "metadata": {},
   "outputs": [],
   "source": [
    "print(p)\n",
    "type(p)"
   ]
  },
  {
   "cell_type": "code",
   "execution_count": null,
   "id": "0fc0155d",
   "metadata": {},
   "outputs": [],
   "source": [
    "type(r)"
   ]
  },
  {
   "cell_type": "markdown",
   "id": "f9e3f0c3",
   "metadata": {},
   "source": [
    "# Lambda Function"
   ]
  },
  {
   "cell_type": "markdown",
   "id": "f98d301a",
   "metadata": {},
   "source": [
    "* A lambda function is a small anonymous function (anonymous means koi naam nahi hai)\n",
    "* A lambda function can take any number of arguments\n",
    "* but can only have one expression"
   ]
  },
  {
   "cell_type": "code",
   "execution_count": null,
   "id": "564c34af",
   "metadata": {},
   "outputs": [],
   "source": [
    "def sumoftwo(a):\n",
    "    return a+a"
   ]
  },
  {
   "cell_type": "code",
   "execution_count": null,
   "id": "81128e84",
   "metadata": {},
   "outputs": [],
   "source": [
    "sumoftwo(2)"
   ]
  },
  {
   "cell_type": "code",
   "execution_count": null,
   "id": "57c7feef",
   "metadata": {},
   "outputs": [],
   "source": [
    "x = lambda y: y+10\n",
    "print(x(10))"
   ]
  },
  {
   "cell_type": "code",
   "execution_count": null,
   "id": "d7081523",
   "metadata": {},
   "outputs": [],
   "source": [
    "Square = lambda a: a*a\n",
    "print(Square(10))"
   ]
  },
  {
   "cell_type": "code",
   "execution_count": null,
   "id": "681e97c2",
   "metadata": {},
   "outputs": [],
   "source": [
    "multiply = lambda a,b : a*b\n",
    "print(multiply(10,20))"
   ]
  },
  {
   "cell_type": "code",
   "execution_count": null,
   "id": "5bb46e10",
   "metadata": {},
   "outputs": [],
   "source": [
    "Sum = lambda a,b,c: a+b+c\n",
    "print(Sum(1,2,3))"
   ]
  },
  {
   "cell_type": "markdown",
   "id": "faba6986",
   "metadata": {},
   "source": [
    "**Why Use lambda Function**\n",
    "* The power of lambda is better shown when you use them as anonymous\n",
    "* Function inside another function\n",
    "* Say you have a function definition that one argument, and that argument \n",
    "* Will be multiplied with an unknown number"
   ]
  },
  {
   "cell_type": "code",
   "execution_count": null,
   "id": "82b328f9",
   "metadata": {},
   "outputs": [],
   "source": [
    "def myfunc(n):\n",
    "    return lambda a: a*n"
   ]
  },
  {
   "cell_type": "code",
   "execution_count": null,
   "id": "b33df9a9",
   "metadata": {},
   "outputs": [],
   "source": [
    "mydoubler = myfunc(3)"
   ]
  },
  {
   "cell_type": "code",
   "execution_count": null,
   "id": "352c09a0",
   "metadata": {},
   "outputs": [],
   "source": [
    "print(mydoubler(4))"
   ]
  },
  {
   "cell_type": "code",
   "execution_count": null,
   "id": "aea6a424",
   "metadata": {},
   "outputs": [],
   "source": [
    "def myfunc(n):\n",
    "    return lambda a: a*n"
   ]
  },
  {
   "cell_type": "code",
   "execution_count": null,
   "id": "53964a8b",
   "metadata": {},
   "outputs": [],
   "source": [
    "mydoubler = myfunc(3)\n",
    "mytripler = myfunc(4)"
   ]
  },
  {
   "cell_type": "code",
   "execution_count": null,
   "id": "85332066",
   "metadata": {},
   "outputs": [],
   "source": [
    "print(mydoubler(12))"
   ]
  },
  {
   "cell_type": "code",
   "execution_count": null,
   "id": "ae2fe39c",
   "metadata": {},
   "outputs": [],
   "source": [
    "print(mytripler(12))"
   ]
  },
  {
   "cell_type": "code",
   "execution_count": null,
   "id": "3726375f",
   "metadata": {},
   "outputs": [],
   "source": [
    " "
   ]
  }
 ],
 "metadata": {
  "kernelspec": {
   "display_name": "Python 3 (ipykernel)",
   "language": "python",
   "name": "python3"
  },
  "language_info": {
   "codemirror_mode": {
    "name": "ipython",
    "version": 3
   },
   "file_extension": ".py",
   "mimetype": "text/x-python",
   "name": "python",
   "nbconvert_exporter": "python",
   "pygments_lexer": "ipython3",
   "version": "3.8.0"
  }
 },
 "nbformat": 4,
 "nbformat_minor": 5
}
